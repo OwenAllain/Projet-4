{
 "cells": [
  {
   "cell_type": "markdown",
   "metadata": {},
   "source": []
  },
  {
   "cell_type": "markdown",
   "metadata": {},
   "source": [
    "\n",
    "# Projet 4 : étude des ventes de cette année de l'entreprise (analyse)\n",
    "\n",
    "Dans ce document, nous allons étudier les ventes de l'année de l'entreprise en essayant de détailler un maximum nos démarches et en les rendant le plus simple à comprendre possible, afin de délivrer des informations claires et utiles.\n",
    "\n",
    "## Sommaire\n",
    "\n",
    "#### Perte de CA durant l'année\n",
    "Avant de commencer notre étude en détails après un survole des données nous nous somme retrouver à un problème sur le CA que nous allons détailler dans cette partie\n",
    "\n",
    "- [Perte de CA, Détection et Actions](#Perte-de-CA)\n",
    "\n",
    "\n",
    "#### Dans un premier temps nous nous pencherons sur l'étude des clients\n",
    "\n",
    "- [Étude du portefeuille client](#Le-portefeuille-client)\n",
    "- [Étude des acheteurs](#Les-acheteurs)\n",
    "- [Étude des dépenses des clients](#Etude-des-depenses-des-clients)\n",
    "\n",
    "#### Ensuite nous observerons les produits\n",
    "\n",
    "- [Étude du catalogue de produits](#Le-catalogue)\n",
    "- [Étude des ventes de l'année](#Etude-des-produits-acheter)\n",
    "\n",
    "\n",
    "#### Nous nous intéresserons a l'étude des paniers\n",
    "\n",
    "- [Etude des paniers](#Etude-des-paniers)\n",
    "\n",
    "\n",
    "#### Finalement nous étudierons de possible corrélation entre les différentes données\n",
    "\n",
    "- [Sex et catégorie](#Correlation:-Sexes-Catégories)\n",
    "- [Ages et montant total d'achat](#Correlation:-Ages-et-montant-total-d'achat)\n",
    "- [Age et fréquence d'achat](#Correlation:-Age-et-fréquence-d'achat)\n",
    "- [Age et nombre de produits moyen acheté](#Correlation:-Age-et-nombre-de-produits-moyen-acheté)\n",
    "- [Age et categories acheté](#Correlation:-Age-et-categories-acheté)\n",
    "\n",
    "\n",
    "\n"
   ]
  },
  {
   "cell_type": "markdown",
   "metadata": {},
   "source": []
  },
  {
   "cell_type": "code",
   "execution_count": 1,
   "metadata": {},
   "outputs": [],
   "source": [
    "\n",
    "#Import des différentes Librairie\n",
    "\n",
    "import matplotlib.pyplot as plt\n",
    "import pandas as pd\n",
    "import datetime as dt\n",
    "import seaborn as sns\n",
    "import scipy.stats as st\n",
    "import numpy as np\n",
    "\n",
    "plt.style.use('seaborn-deep')\n",
    "%matplotlib inline\n",
    "\n",
    "#Chemin du dossier pour les images de graph\n",
    "dossierImg = \"./image_Graph/\"\n"
   ]
  },
  {
   "cell_type": "code",
   "execution_count": 2,
   "metadata": {},
   "outputs": [],
   "source": [
    "\n",
    "#Import des données\n",
    "cus = pd.read_csv(\"data/customer_formate.csv\")\n",
    "pro = pd.read_csv(\"data/product_formate.csv\")\n",
    "tra = pd.read_csv(\"data/transaction_formate.csv\",parse_dates=[1])\n"
   ]
  },
  {
   "cell_type": "markdown",
   "metadata": {},
   "source": [
    "### Presentation des données"
   ]
  },
  {
   "cell_type": "code",
   "execution_count": 3,
   "metadata": {},
   "outputs": [
    {
     "data": {
      "text/html": [
       "<div>\n",
       "<style scoped>\n",
       "    .dataframe tbody tr th:only-of-type {\n",
       "        vertical-align: middle;\n",
       "    }\n",
       "\n",
       "    .dataframe tbody tr th {\n",
       "        vertical-align: top;\n",
       "    }\n",
       "\n",
       "    .dataframe thead th {\n",
       "        text-align: right;\n",
       "    }\n",
       "</style>\n",
       "<table border=\"1\" class=\"dataframe\">\n",
       "  <thead>\n",
       "    <tr style=\"text-align: right;\">\n",
       "      <th></th>\n",
       "      <th>client_id</th>\n",
       "      <th>sex</th>\n",
       "      <th>birth</th>\n",
       "    </tr>\n",
       "  </thead>\n",
       "  <tbody>\n",
       "    <tr>\n",
       "      <th>0</th>\n",
       "      <td>c_4410</td>\n",
       "      <td>f</td>\n",
       "      <td>1967</td>\n",
       "    </tr>\n",
       "    <tr>\n",
       "      <th>1</th>\n",
       "      <td>c_7839</td>\n",
       "      <td>f</td>\n",
       "      <td>1975</td>\n",
       "    </tr>\n",
       "    <tr>\n",
       "      <th>2</th>\n",
       "      <td>c_1699</td>\n",
       "      <td>f</td>\n",
       "      <td>1984</td>\n",
       "    </tr>\n",
       "    <tr>\n",
       "      <th>3</th>\n",
       "      <td>c_5961</td>\n",
       "      <td>f</td>\n",
       "      <td>1962</td>\n",
       "    </tr>\n",
       "    <tr>\n",
       "      <th>4</th>\n",
       "      <td>c_5320</td>\n",
       "      <td>m</td>\n",
       "      <td>1943</td>\n",
       "    </tr>\n",
       "  </tbody>\n",
       "</table>\n",
       "</div>"
      ],
      "text/plain": [
       "  client_id sex  birth\n",
       "0    c_4410   f   1967\n",
       "1    c_7839   f   1975\n",
       "2    c_1699   f   1984\n",
       "3    c_5961   f   1962\n",
       "4    c_5320   m   1943"
      ]
     },
     "execution_count": 3,
     "metadata": {},
     "output_type": "execute_result"
    }
   ],
   "source": [
    "cus.head()"
   ]
  },
  {
   "cell_type": "code",
   "execution_count": 4,
   "metadata": {},
   "outputs": [
    {
     "data": {
      "text/html": [
       "<div>\n",
       "<style scoped>\n",
       "    .dataframe tbody tr th:only-of-type {\n",
       "        vertical-align: middle;\n",
       "    }\n",
       "\n",
       "    .dataframe tbody tr th {\n",
       "        vertical-align: top;\n",
       "    }\n",
       "\n",
       "    .dataframe thead th {\n",
       "        text-align: right;\n",
       "    }\n",
       "</style>\n",
       "<table border=\"1\" class=\"dataframe\">\n",
       "  <thead>\n",
       "    <tr style=\"text-align: right;\">\n",
       "      <th></th>\n",
       "      <th>id_prod</th>\n",
       "      <th>price</th>\n",
       "      <th>categ</th>\n",
       "    </tr>\n",
       "  </thead>\n",
       "  <tbody>\n",
       "    <tr>\n",
       "      <th>0</th>\n",
       "      <td>0_1421</td>\n",
       "      <td>19.99</td>\n",
       "      <td>0</td>\n",
       "    </tr>\n",
       "    <tr>\n",
       "      <th>1</th>\n",
       "      <td>0_1368</td>\n",
       "      <td>5.13</td>\n",
       "      <td>0</td>\n",
       "    </tr>\n",
       "    <tr>\n",
       "      <th>2</th>\n",
       "      <td>0_731</td>\n",
       "      <td>17.99</td>\n",
       "      <td>0</td>\n",
       "    </tr>\n",
       "    <tr>\n",
       "      <th>3</th>\n",
       "      <td>1_587</td>\n",
       "      <td>4.99</td>\n",
       "      <td>1</td>\n",
       "    </tr>\n",
       "    <tr>\n",
       "      <th>4</th>\n",
       "      <td>0_1507</td>\n",
       "      <td>3.99</td>\n",
       "      <td>0</td>\n",
       "    </tr>\n",
       "  </tbody>\n",
       "</table>\n",
       "</div>"
      ],
      "text/plain": [
       "  id_prod  price  categ\n",
       "0  0_1421  19.99      0\n",
       "1  0_1368   5.13      0\n",
       "2   0_731  17.99      0\n",
       "3   1_587   4.99      1\n",
       "4  0_1507   3.99      0"
      ]
     },
     "execution_count": 4,
     "metadata": {},
     "output_type": "execute_result"
    }
   ],
   "source": [
    "pro.head()"
   ]
  },
  {
   "cell_type": "code",
   "execution_count": 5,
   "metadata": {},
   "outputs": [
    {
     "data": {
      "text/html": [
       "<div>\n",
       "<style scoped>\n",
       "    .dataframe tbody tr th:only-of-type {\n",
       "        vertical-align: middle;\n",
       "    }\n",
       "\n",
       "    .dataframe tbody tr th {\n",
       "        vertical-align: top;\n",
       "    }\n",
       "\n",
       "    .dataframe thead th {\n",
       "        text-align: right;\n",
       "    }\n",
       "</style>\n",
       "<table border=\"1\" class=\"dataframe\">\n",
       "  <thead>\n",
       "    <tr style=\"text-align: right;\">\n",
       "      <th></th>\n",
       "      <th>id_prod</th>\n",
       "      <th>date</th>\n",
       "      <th>session_id</th>\n",
       "      <th>client_id</th>\n",
       "    </tr>\n",
       "  </thead>\n",
       "  <tbody>\n",
       "    <tr>\n",
       "      <th>0</th>\n",
       "      <td>0_1483</td>\n",
       "      <td>2021-04-10 18:37:28.723910</td>\n",
       "      <td>s_18746</td>\n",
       "      <td>c_4450</td>\n",
       "    </tr>\n",
       "    <tr>\n",
       "      <th>1</th>\n",
       "      <td>2_226</td>\n",
       "      <td>2022-02-03 01:55:53.276402</td>\n",
       "      <td>s_159142</td>\n",
       "      <td>c_277</td>\n",
       "    </tr>\n",
       "    <tr>\n",
       "      <th>2</th>\n",
       "      <td>1_374</td>\n",
       "      <td>2021-09-23 15:13:46.938559</td>\n",
       "      <td>s_94290</td>\n",
       "      <td>c_4270</td>\n",
       "    </tr>\n",
       "    <tr>\n",
       "      <th>3</th>\n",
       "      <td>0_2186</td>\n",
       "      <td>2021-10-17 03:27:18.783634</td>\n",
       "      <td>s_105936</td>\n",
       "      <td>c_4597</td>\n",
       "    </tr>\n",
       "    <tr>\n",
       "      <th>4</th>\n",
       "      <td>0_1351</td>\n",
       "      <td>2021-07-17 20:34:25.800563</td>\n",
       "      <td>s_63642</td>\n",
       "      <td>c_1242</td>\n",
       "    </tr>\n",
       "  </tbody>\n",
       "</table>\n",
       "</div>"
      ],
      "text/plain": [
       "  id_prod                       date session_id client_id\n",
       "0  0_1483 2021-04-10 18:37:28.723910    s_18746    c_4450\n",
       "1   2_226 2022-02-03 01:55:53.276402   s_159142     c_277\n",
       "2   1_374 2021-09-23 15:13:46.938559    s_94290    c_4270\n",
       "3  0_2186 2021-10-17 03:27:18.783634   s_105936    c_4597\n",
       "4  0_1351 2021-07-17 20:34:25.800563    s_63642    c_1242"
      ]
     },
     "execution_count": 5,
     "metadata": {},
     "output_type": "execute_result"
    }
   ],
   "source": [
    "tra.head()"
   ]
  },
  {
   "cell_type": "markdown",
   "metadata": {},
   "source": [
    "\n",
    "Pour plus de simplicité, nous allons ajouter une colonne avec l'âge de chaque personne en plus de leur date de naissance. Le tout sera plus lisible par la suite.\n"
   ]
  },
  {
   "cell_type": "code",
   "execution_count": 6,
   "metadata": {},
   "outputs": [
    {
     "data": {
      "text/html": [
       "<div>\n",
       "<style scoped>\n",
       "    .dataframe tbody tr th:only-of-type {\n",
       "        vertical-align: middle;\n",
       "    }\n",
       "\n",
       "    .dataframe tbody tr th {\n",
       "        vertical-align: top;\n",
       "    }\n",
       "\n",
       "    .dataframe thead th {\n",
       "        text-align: right;\n",
       "    }\n",
       "</style>\n",
       "<table border=\"1\" class=\"dataframe\">\n",
       "  <thead>\n",
       "    <tr style=\"text-align: right;\">\n",
       "      <th></th>\n",
       "      <th>client_id</th>\n",
       "      <th>sex</th>\n",
       "      <th>birth</th>\n",
       "      <th>age</th>\n",
       "    </tr>\n",
       "  </thead>\n",
       "  <tbody>\n",
       "    <tr>\n",
       "      <th>0</th>\n",
       "      <td>c_4410</td>\n",
       "      <td>f</td>\n",
       "      <td>1967</td>\n",
       "      <td>53</td>\n",
       "    </tr>\n",
       "    <tr>\n",
       "      <th>1</th>\n",
       "      <td>c_7839</td>\n",
       "      <td>f</td>\n",
       "      <td>1975</td>\n",
       "      <td>45</td>\n",
       "    </tr>\n",
       "    <tr>\n",
       "      <th>2</th>\n",
       "      <td>c_1699</td>\n",
       "      <td>f</td>\n",
       "      <td>1984</td>\n",
       "      <td>36</td>\n",
       "    </tr>\n",
       "    <tr>\n",
       "      <th>3</th>\n",
       "      <td>c_5961</td>\n",
       "      <td>f</td>\n",
       "      <td>1962</td>\n",
       "      <td>58</td>\n",
       "    </tr>\n",
       "    <tr>\n",
       "      <th>4</th>\n",
       "      <td>c_5320</td>\n",
       "      <td>m</td>\n",
       "      <td>1943</td>\n",
       "      <td>77</td>\n",
       "    </tr>\n",
       "  </tbody>\n",
       "</table>\n",
       "</div>"
      ],
      "text/plain": [
       "  client_id sex  birth  age\n",
       "0    c_4410   f   1967   53\n",
       "1    c_7839   f   1975   45\n",
       "2    c_1699   f   1984   36\n",
       "3    c_5961   f   1962   58\n",
       "4    c_5320   m   1943   77"
      ]
     },
     "execution_count": 6,
     "metadata": {},
     "output_type": "execute_result"
    }
   ],
   "source": [
    "date = dt.datetime.now()\n",
    "\n",
    "cus['age'] = date.year - cus['birth']\n",
    "\n",
    "cus.head()"
   ]
  },
  {
   "cell_type": "markdown",
   "metadata": {},
   "source": [
    "### Création d'un DataFrame pour l'étude des transactions\n",
    "\n",
    "\n",
    "Pour l'étude sur les dépenses et transaction de nos clients, nous créerons un nouveau tableau regroupant pour chaque transaction les informations du client et de l'article concerner."
   ]
  },
  {
   "cell_type": "code",
   "execution_count": 7,
   "metadata": {},
   "outputs": [
    {
     "data": {
      "text/html": [
       "<div>\n",
       "<style scoped>\n",
       "    .dataframe tbody tr th:only-of-type {\n",
       "        vertical-align: middle;\n",
       "    }\n",
       "\n",
       "    .dataframe tbody tr th {\n",
       "        vertical-align: top;\n",
       "    }\n",
       "\n",
       "    .dataframe thead th {\n",
       "        text-align: right;\n",
       "    }\n",
       "</style>\n",
       "<table border=\"1\" class=\"dataframe\">\n",
       "  <thead>\n",
       "    <tr style=\"text-align: right;\">\n",
       "      <th></th>\n",
       "      <th>id_prod</th>\n",
       "      <th>date</th>\n",
       "      <th>session_id</th>\n",
       "      <th>client_id</th>\n",
       "      <th>price</th>\n",
       "      <th>categ</th>\n",
       "      <th>sex</th>\n",
       "      <th>birth</th>\n",
       "      <th>age</th>\n",
       "    </tr>\n",
       "  </thead>\n",
       "  <tbody>\n",
       "    <tr>\n",
       "      <th>0</th>\n",
       "      <td>0_1483</td>\n",
       "      <td>2021-04-10 18:37:28.723910</td>\n",
       "      <td>s_18746</td>\n",
       "      <td>c_4450</td>\n",
       "      <td>4.99</td>\n",
       "      <td>0.0</td>\n",
       "      <td>f</td>\n",
       "      <td>1977</td>\n",
       "      <td>43</td>\n",
       "    </tr>\n",
       "    <tr>\n",
       "      <th>1</th>\n",
       "      <td>2_226</td>\n",
       "      <td>2022-02-03 01:55:53.276402</td>\n",
       "      <td>s_159142</td>\n",
       "      <td>c_277</td>\n",
       "      <td>65.75</td>\n",
       "      <td>2.0</td>\n",
       "      <td>f</td>\n",
       "      <td>2000</td>\n",
       "      <td>20</td>\n",
       "    </tr>\n",
       "    <tr>\n",
       "      <th>2</th>\n",
       "      <td>1_374</td>\n",
       "      <td>2021-09-23 15:13:46.938559</td>\n",
       "      <td>s_94290</td>\n",
       "      <td>c_4270</td>\n",
       "      <td>10.71</td>\n",
       "      <td>1.0</td>\n",
       "      <td>f</td>\n",
       "      <td>1979</td>\n",
       "      <td>41</td>\n",
       "    </tr>\n",
       "    <tr>\n",
       "      <th>3</th>\n",
       "      <td>0_2186</td>\n",
       "      <td>2021-10-17 03:27:18.783634</td>\n",
       "      <td>s_105936</td>\n",
       "      <td>c_4597</td>\n",
       "      <td>4.20</td>\n",
       "      <td>0.0</td>\n",
       "      <td>m</td>\n",
       "      <td>1963</td>\n",
       "      <td>57</td>\n",
       "    </tr>\n",
       "    <tr>\n",
       "      <th>4</th>\n",
       "      <td>0_1351</td>\n",
       "      <td>2021-07-17 20:34:25.800563</td>\n",
       "      <td>s_63642</td>\n",
       "      <td>c_1242</td>\n",
       "      <td>8.99</td>\n",
       "      <td>0.0</td>\n",
       "      <td>f</td>\n",
       "      <td>1980</td>\n",
       "      <td>40</td>\n",
       "    </tr>\n",
       "  </tbody>\n",
       "</table>\n",
       "</div>"
      ],
      "text/plain": [
       "  id_prod                       date session_id client_id  price  categ sex  \\\n",
       "0  0_1483 2021-04-10 18:37:28.723910    s_18746    c_4450   4.99    0.0   f   \n",
       "1   2_226 2022-02-03 01:55:53.276402   s_159142     c_277  65.75    2.0   f   \n",
       "2   1_374 2021-09-23 15:13:46.938559    s_94290    c_4270  10.71    1.0   f   \n",
       "3  0_2186 2021-10-17 03:27:18.783634   s_105936    c_4597   4.20    0.0   m   \n",
       "4  0_1351 2021-07-17 20:34:25.800563    s_63642    c_1242   8.99    0.0   f   \n",
       "\n",
       "   birth  age  \n",
       "0   1977   43  \n",
       "1   2000   20  \n",
       "2   1979   41  \n",
       "3   1963   57  \n",
       "4   1980   40  "
      ]
     },
     "execution_count": 7,
     "metadata": {},
     "output_type": "execute_result"
    }
   ],
   "source": [
    "\n",
    "tab_transactionsComplete = pd.DataFrame(tra)\n",
    "tab_transactionsComplete = pd.merge(tab_transactionsComplete, pro, left_on='id_prod', right_on='id_prod', left_index=True, right_index=False, how='left')\n",
    "tab_transactionsComplete = pd.merge(tab_transactionsComplete, cus, left_on='client_id', right_on='client_id', left_index=False, right_index=False, how='left')\n",
    "tab_transactionsComplete.head()\n"
   ]
  },
  {
   "cell_type": "markdown",
   "metadata": {},
   "source": [
    "### Perte de CA\n"
   ]
  },
  {
   "cell_type": "code",
   "execution_count": 8,
   "metadata": {},
   "outputs": [
    {
     "data": {
      "image/png": "[encoded data removed]",
      "text/plain": [
       "<Figure size 1080x720 with 1 Axes>"
      ]
     },
     "metadata": {
      "needs_background": "light"
     },
     "output_type": "display_data"
    }
   ],
   "source": [
    "\n",
    "#Étude du nombre de paniers au cours du temp(semaine)\n",
    "\n",
    "panier_parSemaine = pd.pivot_table(tab_transactionsComplete,values='price', index=tab_transactionsComplete.date.dt.week, aggfunc='sum')\n",
    "plt.figure(figsize=(15,10))\n",
    "plt.plot(panier_parSemaine, label= \"Nombre de panier\")\n",
    "plt.title(\"Évolution du nombre de paniers au cours de l'année\",fontsize=20)\n",
    "plt.ylabel(\"Nombre de paniers\",fontsize=15)\n",
    "plt.xlabel(\"n° de semaine\",fontsize=15)\n",
    "plt.legend()\n",
    "plt.savefig(dossierImg + \"graph1.png\")\n",
    "plt.show()\n"
   ]
  },
  {
   "cell_type": "markdown",
   "metadata": {},
   "source": [
    "\n",
    "Avec la création de notre nouveau tableau, nous avons pu avoir une vision globale des dépenses de nos clients (notre Chiffre d'affaires), et nous avons trouver une anomalie : ce dernier subit un fort recule aux alentours de la quarantième semaine soit environs octobre.\n",
    "\n",
    "\n",
    "#### Étude plus approfondi\n",
    "\n",
    "Dans la prochaine partie, j'ai regardé plus en profondeur d'où pouvait venir de telle résultat.\n"
   ]
  },
  {
   "cell_type": "code",
   "execution_count": 9,
   "metadata": {},
   "outputs": [
    {
     "data": {
      "image/png": "[encoded data removed]",
      "text/plain": [
       "<Figure size 1080x720 with 1 Axes>"
      ]
     },
     "metadata": {
      "needs_background": "light"
     },
     "output_type": "display_data"
    }
   ],
   "source": [
    "\n",
    "#Anciennement \"t\"\n",
    "tab_nombreProdTime = pd.pivot_table(tab_transactionsComplete, values='id_prod', index= [tab_transactionsComplete.date.dt.month], columns='categ', aggfunc='count')\n",
    "tab_nombreProdTime = tab_nombreProdTime.reset_index()\n",
    "\n",
    "tab_nombreProdTime[[0,1,2]].plot(kind='bar', stacked=True,rot=0,figsize=(15,10),width=.8)\n",
    "\n",
    "plt.xticks(np.arange(0, 12, 1),('Janvier','Fevrier','Avril','Mars','Mai','Juin','Juillet','Août','Septembre', 'Octobre', 'Novembre','Décembre'))\n",
    "plt.xlabel('date',fontsize=15)\n",
    "plt.ylabel(\"Nombres d'achats\",fontsize=15)\n",
    "plt.title(\"Évolutions du nombre achats durant l'année\",fontsize=20)\n",
    "plt.grid(False)\n",
    "plt.legend()\n",
    "plt.savefig(dossierImg + \"graph2.png\")\n",
    "plt.show()\n"
   ]
  },
  {
   "cell_type": "markdown",
   "metadata": {},
   "source": [
    "\n",
    "Ce graphe nous montre clairement un changement soudain dans la tendance d'achats de nos clients. On peut voir une très forte diminution des ventes des produits de catégorie 1. Regardons les chiffres.\n"
   ]
  },
  {
   "cell_type": "code",
   "execution_count": 10,
   "metadata": {},
   "outputs": [
    {
     "data": {
      "text/html": [
       "<div>\n",
       "<style scoped>\n",
       "    .dataframe tbody tr th:only-of-type {\n",
       "        vertical-align: middle;\n",
       "    }\n",
       "\n",
       "    .dataframe tbody tr th {\n",
       "        vertical-align: top;\n",
       "    }\n",
       "\n",
       "    .dataframe thead th {\n",
       "        text-align: right;\n",
       "    }\n",
       "</style>\n",
       "<table border=\"1\" class=\"dataframe\">\n",
       "  <thead>\n",
       "    <tr style=\"text-align: right;\">\n",
       "      <th>categ</th>\n",
       "      <th>date</th>\n",
       "      <th>0.0</th>\n",
       "      <th>1.0</th>\n",
       "      <th>2.0</th>\n",
       "    </tr>\n",
       "  </thead>\n",
       "  <tbody>\n",
       "    <tr>\n",
       "      <th>0</th>\n",
       "      <td>1</td>\n",
       "      <td>15381</td>\n",
       "      <td>12560</td>\n",
       "      <td>1370</td>\n",
       "    </tr>\n",
       "  </tbody>\n",
       "</table>\n",
       "</div>"
      ],
      "text/plain": [
       "categ  date    0.0    1.0   2.0\n",
       "0         1  15381  12560  1370"
      ]
     },
     "execution_count": 10,
     "metadata": {},
     "output_type": "execute_result"
    }
   ],
   "source": [
    "\n",
    "#Nombres d'achats par catégories durant janvier\n",
    "tab_nombreProdTime[tab_nombreProdTime['date'] == 1]\n"
   ]
  },
  {
   "cell_type": "code",
   "execution_count": 11,
   "metadata": {},
   "outputs": [
    {
     "data": {
      "text/html": [
       "<div>\n",
       "<style scoped>\n",
       "    .dataframe tbody tr th:only-of-type {\n",
       "        vertical-align: middle;\n",
       "    }\n",
       "\n",
       "    .dataframe tbody tr th {\n",
       "        vertical-align: top;\n",
       "    }\n",
       "\n",
       "    .dataframe thead th {\n",
       "        text-align: right;\n",
       "    }\n",
       "</style>\n",
       "<table border=\"1\" class=\"dataframe\">\n",
       "  <thead>\n",
       "    <tr style=\"text-align: right;\">\n",
       "      <th>categ</th>\n",
       "      <th>date</th>\n",
       "      <th>0.0</th>\n",
       "      <th>1.0</th>\n",
       "      <th>2.0</th>\n",
       "    </tr>\n",
       "  </thead>\n",
       "  <tbody>\n",
       "    <tr>\n",
       "      <th>9</th>\n",
       "      <td>10</td>\n",
       "      <td>18751</td>\n",
       "      <td>1666</td>\n",
       "      <td>1160</td>\n",
       "    </tr>\n",
       "  </tbody>\n",
       "</table>\n",
       "</div>"
      ],
      "text/plain": [
       "categ  date    0.0   1.0   2.0\n",
       "9        10  18751  1666  1160"
      ]
     },
     "execution_count": 11,
     "metadata": {},
     "output_type": "execute_result"
    }
   ],
   "source": [
    "\n",
    "#Nombres d'achats par catégories durant Octobre\n",
    "tab_nombreProdTime[tab_nombreProdTime['date'] == 10]\n"
   ]
  },
  {
   "cell_type": "code",
   "execution_count": 12,
   "metadata": {},
   "outputs": [
    {
     "data": {
      "text/plain": [
       "9144.583333333334"
      ]
     },
     "execution_count": 12,
     "metadata": {},
     "output_type": "execute_result"
    }
   ],
   "source": [
    "\n",
    "#Nombres d'achats moyens pour la catégorie 1 durant l'année\n",
    "tab_nombreProdTime[1].mean()\n"
   ]
  },
  {
   "cell_type": "markdown",
   "metadata": {},
   "source": [
    "\n",
    "Les chiffres vont dans notre sens. Nous savons donc que les ventes des objets de catégorie 1 diminue, mais est cela qui impacte tant notre CA ?\n"
   ]
  },
  {
   "cell_type": "code",
   "execution_count": 13,
   "metadata": {},
   "outputs": [
    {
     "data": {
      "image/png": "[encoded data removed]",
      "text/plain": [
       "<Figure size 1080x720 with 1 Axes>"
      ]
     },
     "metadata": {
      "needs_background": "light"
     },
     "output_type": "display_data"
    }
   ],
   "source": [
    "\n",
    "#Anciennement \"y\"\n",
    "tab_gainparCategTime = pd.pivot_table(tab_transactionsComplete, values='price', index= [tab_transactionsComplete.date.dt.month], columns='categ', aggfunc='sum')\n",
    "tab_gainparCategTime = tab_gainparCategTime.reset_index()\n",
    "\n",
    "tab_gainparCategTime[[0,1,2]].plot(kind='bar', stacked=True,rot=0,figsize=(15,10),width=.8)\n",
    "\n",
    "plt.xticks(np.arange(0, 12, 1),('Janvier','Fevrier','Avril','Mars','Mai','Juin','Juillet','Août','Septembre', 'Octobre', 'Novembre','Décembre'))\n",
    "plt.xlabel('Date',fontsize=15)\n",
    "plt.ylabel(\"Argent\",fontsize=15)\n",
    "plt.title(\"Argent dépenser par les clients en fonction des catégories de produits au court de l'année.\",fontsize=20)\n",
    "plt.grid(False)\n",
    "plt.legend()\n",
    "plt.savefig(dossierImg + \"graph3.png\")\n",
    "\n",
    "plt.show()\n"
   ]
  },
  {
   "cell_type": "markdown",
   "metadata": {},
   "source": [
    "L'argent dépensé par nos clients concorde avec le nombre de produits vendu."
   ]
  },
  {
   "cell_type": "code",
   "execution_count": 14,
   "metadata": {},
   "outputs": [
    {
     "data": {
      "text/plain": [
       "array([ 1, 28, 29, 30, 31])"
      ]
     },
     "execution_count": 14,
     "metadata": {},
     "output_type": "execute_result"
    }
   ],
   "source": [
    "\n",
    "#Jours où les produits de catégorie 1 sont vendu\n",
    "tab_transactionsComplete[(tab_transactionsComplete.date.dt.month == 10) & (tab_transactionsComplete.categ == 1)].date.dt.day.sort_values().unique()\n"
   ]
  },
  {
   "cell_type": "markdown",
   "metadata": {},
   "source": [
    "\n",
    "On voit que durant le mois d'octobre les produits de catégorie n°1 ne sont acheter que sur 5 jours. (1,28,29,30,31)\n"
   ]
  },
  {
   "cell_type": "code",
   "execution_count": 15,
   "metadata": {},
   "outputs": [
    {
     "data": {
      "text/html": [
       "<div>\n",
       "<style scoped>\n",
       "    .dataframe tbody tr th:only-of-type {\n",
       "        vertical-align: middle;\n",
       "    }\n",
       "\n",
       "    .dataframe tbody tr th {\n",
       "        vertical-align: top;\n",
       "    }\n",
       "\n",
       "    .dataframe thead th {\n",
       "        text-align: right;\n",
       "    }\n",
       "</style>\n",
       "<table border=\"1\" class=\"dataframe\">\n",
       "  <thead>\n",
       "    <tr style=\"text-align: right;\">\n",
       "      <th></th>\n",
       "      <th>id_prod</th>\n",
       "      <th>date</th>\n",
       "      <th>session_id</th>\n",
       "      <th>client_id</th>\n",
       "      <th>price</th>\n",
       "      <th>categ</th>\n",
       "      <th>sex</th>\n",
       "      <th>birth</th>\n",
       "      <th>age</th>\n",
       "    </tr>\n",
       "  </thead>\n",
       "  <tbody>\n",
       "    <tr>\n",
       "      <th>6231</th>\n",
       "      <td>0_2245</td>\n",
       "      <td>2021-06-17 03:03:12.668129</td>\n",
       "      <td>s_49705</td>\n",
       "      <td>c_1533</td>\n",
       "      <td>NaN</td>\n",
       "      <td>NaN</td>\n",
       "      <td>m</td>\n",
       "      <td>1972</td>\n",
       "      <td>48</td>\n",
       "    </tr>\n",
       "    <tr>\n",
       "      <th>10797</th>\n",
       "      <td>0_2245</td>\n",
       "      <td>2021-06-16 05:53:01.627491</td>\n",
       "      <td>s_49323</td>\n",
       "      <td>c_7954</td>\n",
       "      <td>NaN</td>\n",
       "      <td>NaN</td>\n",
       "      <td>m</td>\n",
       "      <td>1973</td>\n",
       "      <td>47</td>\n",
       "    </tr>\n",
       "    <tr>\n",
       "      <th>14045</th>\n",
       "      <td>0_2245</td>\n",
       "      <td>2021-11-24 17:35:59.911427</td>\n",
       "      <td>s_124474</td>\n",
       "      <td>c_5120</td>\n",
       "      <td>NaN</td>\n",
       "      <td>NaN</td>\n",
       "      <td>f</td>\n",
       "      <td>1975</td>\n",
       "      <td>45</td>\n",
       "    </tr>\n",
       "    <tr>\n",
       "      <th>17480</th>\n",
       "      <td>0_2245</td>\n",
       "      <td>2022-02-28 18:08:49.875709</td>\n",
       "      <td>s_172304</td>\n",
       "      <td>c_4964</td>\n",
       "      <td>NaN</td>\n",
       "      <td>NaN</td>\n",
       "      <td>f</td>\n",
       "      <td>1982</td>\n",
       "      <td>38</td>\n",
       "    </tr>\n",
       "    <tr>\n",
       "      <th>21071</th>\n",
       "      <td>0_2245</td>\n",
       "      <td>2021-03-01 00:09:29.301897</td>\n",
       "      <td>s_3</td>\n",
       "      <td>c_580</td>\n",
       "      <td>NaN</td>\n",
       "      <td>NaN</td>\n",
       "      <td>m</td>\n",
       "      <td>1988</td>\n",
       "      <td>32</td>\n",
       "    </tr>\n",
       "    <tr>\n",
       "      <th>...</th>\n",
       "      <td>...</td>\n",
       "      <td>...</td>\n",
       "      <td>...</td>\n",
       "      <td>...</td>\n",
       "      <td>...</td>\n",
       "      <td>...</td>\n",
       "      <td>...</td>\n",
       "      <td>...</td>\n",
       "      <td>...</td>\n",
       "    </tr>\n",
       "    <tr>\n",
       "      <th>322523</th>\n",
       "      <td>0_2245</td>\n",
       "      <td>2021-04-06 19:59:19.462288</td>\n",
       "      <td>s_16936</td>\n",
       "      <td>c_4167</td>\n",
       "      <td>NaN</td>\n",
       "      <td>NaN</td>\n",
       "      <td>f</td>\n",
       "      <td>1979</td>\n",
       "      <td>41</td>\n",
       "    </tr>\n",
       "    <tr>\n",
       "      <th>329226</th>\n",
       "      <td>0_2245</td>\n",
       "      <td>2021-03-30 23:29:02.347672</td>\n",
       "      <td>s_13738</td>\n",
       "      <td>c_7790</td>\n",
       "      <td>NaN</td>\n",
       "      <td>NaN</td>\n",
       "      <td>f</td>\n",
       "      <td>1983</td>\n",
       "      <td>37</td>\n",
       "    </tr>\n",
       "    <tr>\n",
       "      <th>330297</th>\n",
       "      <td>0_2245</td>\n",
       "      <td>2021-12-03 14:14:40.444177</td>\n",
       "      <td>s_128815</td>\n",
       "      <td>c_6189</td>\n",
       "      <td>NaN</td>\n",
       "      <td>NaN</td>\n",
       "      <td>f</td>\n",
       "      <td>1984</td>\n",
       "      <td>36</td>\n",
       "    </tr>\n",
       "    <tr>\n",
       "      <th>335331</th>\n",
       "      <td>0_2245</td>\n",
       "      <td>2021-04-27 18:58:47.703374</td>\n",
       "      <td>s_26624</td>\n",
       "      <td>c_1595</td>\n",
       "      <td>NaN</td>\n",
       "      <td>NaN</td>\n",
       "      <td>f</td>\n",
       "      <td>1973</td>\n",
       "      <td>47</td>\n",
       "    </tr>\n",
       "    <tr>\n",
       "      <th>336020</th>\n",
       "      <td>0_2245</td>\n",
       "      <td>2021-05-01 03:35:03.146305</td>\n",
       "      <td>s_28235</td>\n",
       "      <td>c_5714</td>\n",
       "      <td>NaN</td>\n",
       "      <td>NaN</td>\n",
       "      <td>f</td>\n",
       "      <td>1972</td>\n",
       "      <td>48</td>\n",
       "    </tr>\n",
       "  </tbody>\n",
       "</table>\n",
       "<p>103 rows × 9 columns</p>\n",
       "</div>"
      ],
      "text/plain": [
       "       id_prod                       date session_id client_id  price  categ  \\\n",
       "6231    0_2245 2021-06-17 03:03:12.668129    s_49705    c_1533    NaN    NaN   \n",
       "10797   0_2245 2021-06-16 05:53:01.627491    s_49323    c_7954    NaN    NaN   \n",
       "14045   0_2245 2021-11-24 17:35:59.911427   s_124474    c_5120    NaN    NaN   \n",
       "17480   0_2245 2022-02-28 18:08:49.875709   s_172304    c_4964    NaN    NaN   \n",
       "21071   0_2245 2021-03-01 00:09:29.301897        s_3     c_580    NaN    NaN   \n",
       "...        ...                        ...        ...       ...    ...    ...   \n",
       "322523  0_2245 2021-04-06 19:59:19.462288    s_16936    c_4167    NaN    NaN   \n",
       "329226  0_2245 2021-03-30 23:29:02.347672    s_13738    c_7790    NaN    NaN   \n",
       "330297  0_2245 2021-12-03 14:14:40.444177   s_128815    c_6189    NaN    NaN   \n",
       "335331  0_2245 2021-04-27 18:58:47.703374    s_26624    c_1595    NaN    NaN   \n",
       "336020  0_2245 2021-05-01 03:35:03.146305    s_28235    c_5714    NaN    NaN   \n",
       "\n",
       "       sex  birth  age  \n",
       "6231     m   1972   48  \n",
       "10797    m   1973   47  \n",
       "14045    f   1975   45  \n",
       "17480    f   1982   38  \n",
       "21071    m   1988   32  \n",
       "...     ..    ...  ...  \n",
       "322523   f   1979   41  \n",
       "329226   f   1983   37  \n",
       "330297   f   1984   36  \n",
       "335331   f   1973   47  \n",
       "336020   f   1972   48  \n",
       "\n",
       "[103 rows x 9 columns]"
      ]
     },
     "execution_count": 15,
     "metadata": {},
     "output_type": "execute_result"
    }
   ],
   "source": [
    "\n",
    "#Produits sans prix\n",
    "tab_transactionsComplete[tab_transactionsComplete.price.isna()]\n"
   ]
  },
  {
   "cell_type": "markdown",
   "metadata": {},
   "source": [
    "\n",
    "Nous avons également remarqué qu'un produits ne possédait ni prix ni catégorie, mais qu'il étais tout de même utiliser lors de transactions.\n"
   ]
  },
  {
   "cell_type": "code",
   "execution_count": 16,
   "metadata": {},
   "outputs": [
    {
     "data": {
      "text/plain": [
       "array(['0_2245'], dtype=object)"
      ]
     },
     "execution_count": 16,
     "metadata": {},
     "output_type": "execute_result"
    }
   ],
   "source": [
    "\n",
    "tab_transactionsComplete[tab_transactionsComplete.price.isna()].id_prod.unique()\n"
   ]
  },
  {
   "cell_type": "markdown",
   "metadata": {},
   "source": [
    "\n",
    "Pour résumer ce que nous avons pour le moment, il y a un produit dans notre base de données qui n'appartient a aucune catégorie et qui n'a pas de prix.\n",
    "\n",
    "Les 103 transactions effectuées avec ce produit ne sont donc pas prix en compte dans notre calcul du chiffre d'affaire.\n",
    "\n",
    "Ce produit pourrait donc expliquer la baisse en octobre.\n"
   ]
  },
  {
   "cell_type": "code",
   "execution_count": 17,
   "metadata": {},
   "outputs": [
    {
     "name": "stdout",
     "output_type": "stream",
     "text": [
      "La marge de différence est de 63.86 € à 4221.97 € sur le chiffre d'affaire.\n"
     ]
    }
   ],
   "source": [
    "\n",
    "print (\"La marge de différence est de {} € à {} € sur le chiffre d'affaire.\".\n",
    "       format(tab_transactionsComplete[tab_transactionsComplete.categ == 0].price.min() * len(tab_transactionsComplete[tab_transactionsComplete.price.isna()]),\n",
    "              tab_transactionsComplete[tab_transactionsComplete.categ == 0].price.max() * len(tab_transactionsComplete[tab_transactionsComplete.price.isna()])\n",
    "             )\n",
    "      )\n"
   ]
  },
  {
   "cell_type": "code",
   "execution_count": 18,
   "metadata": {},
   "outputs": [
    {
     "data": {
      "text/plain": [
       "{1: 5, 2: 11, 3: 9, 4: 14, 5: 8, 6: 7, 7: 4, 8: 9, 9: 12, 10: 7, 11: 10, 12: 7}"
      ]
     },
     "execution_count": 18,
     "metadata": {},
     "output_type": "execute_result"
    }
   ],
   "source": [
    "\n",
    "liste = tab_transactionsComplete[tab_transactionsComplete.price.isna()].date.dt.month\n",
    "compte = {}.fromkeys(set(liste),0)\n",
    "\n",
    "for valeur in liste:\n",
    "    compte[valeur] += 1\n",
    "\n",
    "compte"
   ]
  },
  {
   "cell_type": "markdown",
   "metadata": {},
   "source": [
    "\n",
    "On peut voir que le produit est présent sur différents mois, nous allons tout de même le corriger.\n"
   ]
  },
  {
   "cell_type": "markdown",
   "metadata": {},
   "source": [
    "### Imputation des données\n",
    "\n",
    "L'id du produit nous indique ca catégorie. Tant qu'au prix, nous allons prendre la moyenne de cette catégorie"
   ]
  },
  {
   "cell_type": "code",
   "execution_count": 19,
   "metadata": {},
   "outputs": [
    {
     "data": {
      "text/html": [
       "<div>\n",
       "<style scoped>\n",
       "    .dataframe tbody tr th:only-of-type {\n",
       "        vertical-align: middle;\n",
       "    }\n",
       "\n",
       "    .dataframe tbody tr th {\n",
       "        vertical-align: top;\n",
       "    }\n",
       "\n",
       "    .dataframe thead th {\n",
       "        text-align: right;\n",
       "    }\n",
       "</style>\n",
       "<table border=\"1\" class=\"dataframe\">\n",
       "  <thead>\n",
       "    <tr style=\"text-align: right;\">\n",
       "      <th></th>\n",
       "      <th>id_prod</th>\n",
       "      <th>date</th>\n",
       "      <th>session_id</th>\n",
       "      <th>client_id</th>\n",
       "      <th>price</th>\n",
       "      <th>categ</th>\n",
       "      <th>sex</th>\n",
       "      <th>birth</th>\n",
       "      <th>age</th>\n",
       "    </tr>\n",
       "  </thead>\n",
       "  <tbody>\n",
       "    <tr>\n",
       "      <th>6231</th>\n",
       "      <td>0_2245</td>\n",
       "      <td>2021-06-17 03:03:12.668129</td>\n",
       "      <td>s_49705</td>\n",
       "      <td>c_1533</td>\n",
       "      <td>10.646828</td>\n",
       "      <td>0.0</td>\n",
       "      <td>m</td>\n",
       "      <td>1972</td>\n",
       "      <td>48</td>\n",
       "    </tr>\n",
       "    <tr>\n",
       "      <th>10797</th>\n",
       "      <td>0_2245</td>\n",
       "      <td>2021-06-16 05:53:01.627491</td>\n",
       "      <td>s_49323</td>\n",
       "      <td>c_7954</td>\n",
       "      <td>10.646828</td>\n",
       "      <td>0.0</td>\n",
       "      <td>m</td>\n",
       "      <td>1973</td>\n",
       "      <td>47</td>\n",
       "    </tr>\n",
       "    <tr>\n",
       "      <th>14045</th>\n",
       "      <td>0_2245</td>\n",
       "      <td>2021-11-24 17:35:59.911427</td>\n",
       "      <td>s_124474</td>\n",
       "      <td>c_5120</td>\n",
       "      <td>10.646828</td>\n",
       "      <td>0.0</td>\n",
       "      <td>f</td>\n",
       "      <td>1975</td>\n",
       "      <td>45</td>\n",
       "    </tr>\n",
       "    <tr>\n",
       "      <th>17480</th>\n",
       "      <td>0_2245</td>\n",
       "      <td>2022-02-28 18:08:49.875709</td>\n",
       "      <td>s_172304</td>\n",
       "      <td>c_4964</td>\n",
       "      <td>10.646828</td>\n",
       "      <td>0.0</td>\n",
       "      <td>f</td>\n",
       "      <td>1982</td>\n",
       "      <td>38</td>\n",
       "    </tr>\n",
       "    <tr>\n",
       "      <th>21071</th>\n",
       "      <td>0_2245</td>\n",
       "      <td>2021-03-01 00:09:29.301897</td>\n",
       "      <td>s_3</td>\n",
       "      <td>c_580</td>\n",
       "      <td>10.646828</td>\n",
       "      <td>0.0</td>\n",
       "      <td>m</td>\n",
       "      <td>1988</td>\n",
       "      <td>32</td>\n",
       "    </tr>\n",
       "  </tbody>\n",
       "</table>\n",
       "</div>"
      ],
      "text/plain": [
       "      id_prod                       date session_id client_id      price  \\\n",
       "6231   0_2245 2021-06-17 03:03:12.668129    s_49705    c_1533  10.646828   \n",
       "10797  0_2245 2021-06-16 05:53:01.627491    s_49323    c_7954  10.646828   \n",
       "14045  0_2245 2021-11-24 17:35:59.911427   s_124474    c_5120  10.646828   \n",
       "17480  0_2245 2022-02-28 18:08:49.875709   s_172304    c_4964  10.646828   \n",
       "21071  0_2245 2021-03-01 00:09:29.301897        s_3     c_580  10.646828   \n",
       "\n",
       "       categ sex  birth  age  \n",
       "6231     0.0   m   1972   48  \n",
       "10797    0.0   m   1973   47  \n",
       "14045    0.0   f   1975   45  \n",
       "17480    0.0   f   1982   38  \n",
       "21071    0.0   m   1988   32  "
      ]
     },
     "execution_count": 19,
     "metadata": {},
     "output_type": "execute_result"
    }
   ],
   "source": [
    "\n",
    "prixMoyenAvantModif = tab_transactionsComplete[tab_transactionsComplete.categ==0].price.mean()\n",
    "\n",
    "tab_transactionsComplete.loc[tab_transactionsComplete.price.isna(),'price'] = prixMoyenAvantModif\n",
    "tab_transactionsComplete.loc[tab_transactionsComplete.categ.isna(),'categ'] = 0\n",
    "\n",
    "tab_transactionsComplete[tab_transactionsComplete.id_prod == '0_2245'].head()\n"
   ]
  },
  {
   "cell_type": "code",
   "execution_count": 20,
   "metadata": {},
   "outputs": [
    {
     "data": {
      "image/png": "[encoded data removed]",
      "text/plain": [
       "<Figure size 1080x720 with 1 Axes>"
      ]
     },
     "metadata": {
      "needs_background": "light"
     },
     "output_type": "display_data"
    }
   ],
   "source": [
    "\n",
    "#Anciennement \"y\"\n",
    "tab_gainparCategTime_corrigerProdManquant = pd.pivot_table(tab_transactionsComplete, values='price', index= [tab_transactionsComplete.date.dt.month], columns='categ', aggfunc='sum')\n",
    "tab_gainparCategTime_corrigerProdManquant = tab_gainparCategTime_corrigerProdManquant.reset_index()\n",
    "\n",
    "tab_gainparCategTime_corrigerProdManquant[[0,1,2]].plot(kind='bar', stacked=True,rot=0,figsize=(15,10),width=.8)\n",
    "\n",
    "plt.xticks(np.arange(0, 12, 1),('Janvier','Fevrier','Avril','Mars','Mai','Juin','Juillet','Août','Septembre', 'Octobre', 'Novembre','Décembre'))\n",
    "\n",
    "plt.xlabel('Date',fontsize=15)\n",
    "plt.ylabel(\"Argent\",fontsize=15)\n",
    "plt.title(\"Argent dépenser par les clients en fonction des catégories de produits au court de l'année.\",fontsize=20)\n",
    "plt.grid(False)\n",
    "plt.legend()\n",
    "plt.savefig(dossierImg + \"graph4.png\")\n",
    "\n",
    "plt.show()\n"
   ]
  },
  {
   "cell_type": "markdown",
   "metadata": {},
   "source": [
    "Il semble que la modification de ce produits n'explique pas tout."
   ]
  },
  {
   "cell_type": "markdown",
   "metadata": {},
   "source": [
    "-------------------------------------------------------------------------------------"
   ]
  },
  {
   "cell_type": "markdown",
   "metadata": {},
   "source": [
    "# Étude des données\n",
    "\n",
    "## Les clients\n",
    "Dans cette section, nous allons étudier la répartition de l'âge et du sexe des clients issu du portefeuille clients, mais également des transaction au cours de l'année.\n",
    "\n",
    "### Le portefeuille client\n",
    "\n",
    "Dans cette partie, nous allons observer les clients uniques dans notre base de données. (*customer_formate.csv*)"
   ]
  },
  {
   "cell_type": "code",
   "execution_count": 21,
   "metadata": {},
   "outputs": [
    {
     "name": "stdout",
     "output_type": "stream",
     "text": [
      "\n",
      " age moyen :41.72 ans, \n",
      " un ecart-type de 16.92, \n",
      " age median est de 41 ans, \n",
      " age modale a 16 ans, \n",
      " fourchette d'age de 16 ans a 91 ans\n"
     ]
    }
   ],
   "source": [
    "print(\"\\n age moyen :{} ans, \\n un ecart-type de {}, \\n age median est de {} ans, \\n age modale a {} ans, \\n fourchette d'age de {} ans a {} ans\"\n",
    "      .format(\"%.2f\" % cus['age'].mean(), \n",
    "              \"%.2f\" % cus['age'].std(),\n",
    "              int(cus['age'].median()),\n",
    "              cus['age'].mode()[0],\n",
    "              cus.age.min(),\n",
    "              cus.age.max()))\n"
   ]
  },
  {
   "cell_type": "code",
   "execution_count": 22,
   "metadata": {},
   "outputs": [
    {
     "name": "stdout",
     "output_type": "stream",
     "text": [
      "\n",
      " Femmes :4490 \n",
      " Hommes : 4131 \n",
      " 8621 clients differents \n"
     ]
    }
   ],
   "source": [
    "print(\"\\n Femmes :{} \\n Hommes : {} \\n {} clients differents \"\n",
    "      .format(cus.sex.value_counts()['f'],cus.sex.value_counts()['m'],cus.client_id.value_counts().sum()))\n"
   ]
  },
  {
   "cell_type": "code",
   "execution_count": 23,
   "metadata": {},
   "outputs": [
    {
     "data": {
      "image/png": "[encoded data removed]",
      "text/plain": [
       "<Figure size 1080x720 with 1 Axes>"
      ]
     },
     "metadata": {
      "needs_background": "light"
     },
     "output_type": "display_data"
    }
   ],
   "source": [
    "\n",
    "f = cus['age'][cus['sex']=='f']\n",
    "m = cus['age'][cus['sex']=='m']\n",
    "\n",
    "plt.figure(figsize=(15,10))\n",
    "\n",
    "plt.hist([f, m],\n",
    "         bins = range(10,100,5),\n",
    "         color = ['pink', 'lightBlue'],\n",
    "         edgecolor = 'black',\n",
    "         label = ['femme', 'homme'],\n",
    "         histtype = 'barstacked')\n",
    "\n",
    "\n",
    "plt.xlabel('Âge',fontsize=15)\n",
    "plt.ylabel('Nombre de personnes',fontsize=15)\n",
    "plt.title('Répartition des clients en fonction de leur âge',fontsize=20)\n",
    "plt.axis([12, 95, 0, 1000])\n",
    "plt.grid(False)\n",
    "plt.legend()\n",
    "plt.savefig(dossierImg + \"graph5.png\")\n",
    "\n",
    "plt.show()\n"
   ]
  },
  {
   "cell_type": "markdown",
   "metadata": {},
   "source": [
    "\n",
    "Nous séparons les clients dans la base de données et ces mêmes clients qui ont acheter quelque chose sur notre site.\n",
    "\n",
    "## Les acheteurs\n",
    "Nous étudions ici la population de clients présente dans nos transactions.\n"
   ]
  },
  {
   "cell_type": "code",
   "execution_count": 24,
   "metadata": {},
   "outputs": [
    {
     "data": {
      "text/html": [
       "<div>\n",
       "<style scoped>\n",
       "    .dataframe tbody tr th:only-of-type {\n",
       "        vertical-align: middle;\n",
       "    }\n",
       "\n",
       "    .dataframe tbody tr th {\n",
       "        vertical-align: top;\n",
       "    }\n",
       "\n",
       "    .dataframe thead th {\n",
       "        text-align: right;\n",
       "    }\n",
       "</style>\n",
       "<table border=\"1\" class=\"dataframe\">\n",
       "  <thead>\n",
       "    <tr style=\"text-align: right;\">\n",
       "      <th></th>\n",
       "      <th>client_id</th>\n",
       "      <th>sex</th>\n",
       "      <th>birth</th>\n",
       "      <th>age</th>\n",
       "    </tr>\n",
       "  </thead>\n",
       "  <tbody>\n",
       "    <tr>\n",
       "      <th>0</th>\n",
       "      <td>c_4450</td>\n",
       "      <td>f</td>\n",
       "      <td>1977</td>\n",
       "      <td>43</td>\n",
       "    </tr>\n",
       "    <tr>\n",
       "      <th>1</th>\n",
       "      <td>c_277</td>\n",
       "      <td>f</td>\n",
       "      <td>2000</td>\n",
       "      <td>20</td>\n",
       "    </tr>\n",
       "    <tr>\n",
       "      <th>2</th>\n",
       "      <td>c_4270</td>\n",
       "      <td>f</td>\n",
       "      <td>1979</td>\n",
       "      <td>41</td>\n",
       "    </tr>\n",
       "    <tr>\n",
       "      <th>3</th>\n",
       "      <td>c_4597</td>\n",
       "      <td>m</td>\n",
       "      <td>1963</td>\n",
       "      <td>57</td>\n",
       "    </tr>\n",
       "    <tr>\n",
       "      <th>4</th>\n",
       "      <td>c_1242</td>\n",
       "      <td>f</td>\n",
       "      <td>1980</td>\n",
       "      <td>40</td>\n",
       "    </tr>\n",
       "  </tbody>\n",
       "</table>\n",
       "</div>"
      ],
      "text/plain": [
       "  client_id sex  birth  age\n",
       "0    c_4450   f   1977   43\n",
       "1     c_277   f   2000   20\n",
       "2    c_4270   f   1979   41\n",
       "3    c_4597   m   1963   57\n",
       "4    c_1242   f   1980   40"
      ]
     },
     "execution_count": 24,
     "metadata": {},
     "output_type": "execute_result"
    }
   ],
   "source": [
    "\n",
    "df_Acheteur = tab_transactionsComplete.copy()\n",
    "df_Acheteur = df_Acheteur.drop(columns=(['id_prod', 'date', 'session_id', 'price', 'categ']))\n",
    "df_Acheteur.head()\n"
   ]
  },
  {
   "cell_type": "code",
   "execution_count": 38,
   "metadata": {},
   "outputs": [
    {
     "name": "stdout",
     "output_type": "stream",
     "text": [
      "\n",
      " age moyen :42.18 ans, \n",
      " ecart-type de 13.52,  \n",
      " age median est de 40 ans, \n",
      " age modale a 40 ans, \n",
      " fourchette d'age de 16 ans a 91 ans\n"
     ]
    }
   ],
   "source": [
    "\n",
    "print(\"\\n age moyen :{} ans, \\n ecart-type de {},  \\n age median est de {} ans, \\n age modale a {} ans, \\n fourchette d'age de {} ans a {} ans\"\n",
    "      .format(\"%.2f\" % df_Acheteur['age'].mean(), \n",
    "              \"%.2f\" % df_Acheteur['age'].std(),\n",
    "              int(df_Acheteur['age'].median()),\n",
    "              df_Acheteur['age'].mode()[0],\n",
    "              df_Acheteur.age.min(),\n",
    "              df_Acheteur.age.max()))\n"
   ]
  },
  {
   "cell_type": "code",
   "execution_count": 26,
   "metadata": {},
   "outputs": [
    {
     "name": "stdout",
     "output_type": "stream",
     "text": [
      "\n",
      " Femmes :167575 \n",
      " Hommes : 169241 \n",
      " 336816 acheteurs au long de cette année\n"
     ]
    }
   ],
   "source": [
    "\n",
    "print(\"\\n Femmes :{} \\n Hommes : {} \\n {} acheteurs au long de cette année\"\n",
    "      .format(df_Acheteur.sex.value_counts()['f'],\n",
    "              df_Acheteur.sex.value_counts()['m'],\n",
    "              df_Acheteur.client_id.value_counts().sum()))\n"
   ]
  },
  {
   "cell_type": "code",
   "execution_count": 27,
   "metadata": {},
   "outputs": [
    {
     "data": {
      "image/png": "[encoded data removed]",
      "text/plain": [
       "<Figure size 1080x720 with 1 Axes>"
      ]
     },
     "metadata": {
      "needs_background": "light"
     },
     "output_type": "display_data"
    }
   ],
   "source": [
    "\n",
    "f = df_Acheteur['age'][df_Acheteur['sex']=='f']\n",
    "m = df_Acheteur['age'][df_Acheteur['sex']=='m']\n",
    "\n",
    "plt.figure(figsize=(15,10))\n",
    "\n",
    "plt.hist([f, m],\n",
    "         bins = range(10,100,5),\n",
    "         color = ['pink', 'lightBlue'],\n",
    "         edgecolor = 'black',\n",
    "         label = ['femme', 'homme'],\n",
    "         histtype = 'barstacked')\n",
    "\n",
    "\n",
    "plt.xlabel('Âge',fontsize=15)\n",
    "plt.ylabel('Nombre de personnes',fontsize=15)\n",
    "plt.title('Représentation des acheteurs en fonction de leurs âges',fontsize=20)\n",
    "plt.axis([12, 95, 0, 70000])\n",
    "plt.grid(False)\n",
    "plt.legend()\n",
    "plt.savefig(dossierImg + \"graph6.png\")\n",
    "\n",
    "plt.show()\n"
   ]
  },
  {
   "cell_type": "markdown",
   "metadata": {},
   "source": [
    "\n",
    "Si nous devions retenir une chose ce cette partie, ce serai que les clients du portefeuille clients et les acheteurs sont differents. Nous avons par exemple une majorité de Femme dans ce portefeuille, mais ce sont les Hommes qui achètent le plus sur notre site.\n"
   ]
  },
  {
   "cell_type": "markdown",
   "metadata": {},
   "source": [
    "\n",
    "## Etude des depenses des nos clients \n",
    "\n",
    "Maintenant nous allons nous intéresser aux dépenses de nos clients.\n"
   ]
  },
  {
   "cell_type": "code",
   "execution_count": 36,
   "metadata": {},
   "outputs": [
    {
     "name": "stdout",
     "output_type": "stream",
     "text": [
      "\n",
      " Dépense moyenne 674.15 €, \n",
      " Dépense median 501.31 €, \n",
      " écart-type : 2565.99, \n",
      " variance : 6584294.47\n"
     ]
    }
   ],
   "source": [
    "\n",
    "depenseParClient = pd.pivot_table(tab_transactionsComplete, values='price', index='client_id',aggfunc='sum')\n",
    "depenseParClient = depenseParClient.reset_index()\n",
    "\n",
    "print(\"\\n Dépense moyenne {} €, \\n Dépense median {} €, \\n écart-type : {}, \\n variance : {}\"\n",
    "      .format(\"%.2f\" % depenseParClient.price.mean(),\n",
    "              \"%.2f\" % depenseParClient.price.median(),\n",
    "              \"%.2f\" % depenseParClient.price.std(),\n",
    "              \"%.2f\" % depenseParClient.price.var()))\n"
   ]
  },
  {
   "cell_type": "code",
   "execution_count": 37,
   "metadata": {},
   "outputs": [
    {
     "data": {
      "text/html": [
       "<div>\n",
       "<style scoped>\n",
       "    .dataframe tbody tr th:only-of-type {\n",
       "        vertical-align: middle;\n",
       "    }\n",
       "\n",
       "    .dataframe tbody tr th {\n",
       "        vertical-align: top;\n",
       "    }\n",
       "\n",
       "    .dataframe thead th {\n",
       "        text-align: right;\n",
       "    }\n",
       "</style>\n",
       "<table border=\"1\" class=\"dataframe\">\n",
       "  <thead>\n",
       "    <tr style=\"text-align: right;\">\n",
       "      <th></th>\n",
       "      <th>client_id</th>\n",
       "      <th>price</th>\n",
       "    </tr>\n",
       "  </thead>\n",
       "  <tbody>\n",
       "    <tr>\n",
       "      <th>677</th>\n",
       "      <td>c_1609</td>\n",
       "      <td>162007.340000</td>\n",
       "    </tr>\n",
       "    <tr>\n",
       "      <th>4388</th>\n",
       "      <td>c_4958</td>\n",
       "      <td>144257.210000</td>\n",
       "    </tr>\n",
       "    <tr>\n",
       "      <th>6337</th>\n",
       "      <td>c_6714</td>\n",
       "      <td>73218.633656</td>\n",
       "    </tr>\n",
       "    <tr>\n",
       "      <th>2724</th>\n",
       "      <td>c_3454</td>\n",
       "      <td>54464.213656</td>\n",
       "    </tr>\n",
       "    <tr>\n",
       "      <th>7715</th>\n",
       "      <td>c_7959</td>\n",
       "      <td>2564.250000</td>\n",
       "    </tr>\n",
       "    <tr>\n",
       "      <th>7791</th>\n",
       "      <td>c_8026</td>\n",
       "      <td>2548.316828</td>\n",
       "    </tr>\n",
       "    <tr>\n",
       "      <th>3870</th>\n",
       "      <td>c_4491</td>\n",
       "      <td>2540.530000</td>\n",
       "    </tr>\n",
       "    <tr>\n",
       "      <th>1268</th>\n",
       "      <td>c_2140</td>\n",
       "      <td>2527.010000</td>\n",
       "    </tr>\n",
       "    <tr>\n",
       "      <th>8195</th>\n",
       "      <td>c_8392</td>\n",
       "      <td>2515.980000</td>\n",
       "    </tr>\n",
       "    <tr>\n",
       "      <th>7120</th>\n",
       "      <td>c_7421</td>\n",
       "      <td>2511.980000</td>\n",
       "    </tr>\n",
       "  </tbody>\n",
       "</table>\n",
       "</div>"
      ],
      "text/plain": [
       "     client_id          price\n",
       "677     c_1609  162007.340000\n",
       "4388    c_4958  144257.210000\n",
       "6337    c_6714   73218.633656\n",
       "2724    c_3454   54464.213656\n",
       "7715    c_7959    2564.250000\n",
       "7791    c_8026    2548.316828\n",
       "3870    c_4491    2540.530000\n",
       "1268    c_2140    2527.010000\n",
       "8195    c_8392    2515.980000\n",
       "7120    c_7421    2511.980000"
      ]
     },
     "execution_count": 37,
     "metadata": {},
     "output_type": "execute_result"
    }
   ],
   "source": [
    "\n",
    "#Top 10 clients\n",
    "depenseParClient.sort_values(by='price',ascending=False).head(10)\n"
   ]
  },
  {
   "cell_type": "markdown",
   "metadata": {},
   "source": [
    "\n",
    "En affichant la liste des clients les plus dépensiers, on peut voir que certains clients sont fidèles à notre entreprise et très dépensier.\n"
   ]
  },
  {
   "cell_type": "markdown",
   "metadata": {},
   "source": [
    "-----------------------------------------"
   ]
  },
  {
   "cell_type": "markdown",
   "metadata": {},
   "source": [
    "-----------------------------------------"
   ]
  },
  {
   "cell_type": "markdown",
   "metadata": {},
   "source": [
    "-----------------------------------------"
   ]
  },
  {
   "cell_type": "markdown",
   "metadata": {},
   "source": [
    "-----------------------------------------"
   ]
  },
  {
   "cell_type": "markdown",
   "metadata": {},
   "source": [
    "-----------------------------------------"
   ]
  },
  {
   "cell_type": "markdown",
   "metadata": {},
   "source": [
    "-----------------------------------------"
   ]
  },
  {
   "cell_type": "markdown",
   "metadata": {},
   "source": [
    "-----------------------------------------"
   ]
  },
  {
   "cell_type": "markdown",
   "metadata": {},
   "source": [
    "-----------------------------------------"
   ]
  },
  {
   "cell_type": "markdown",
   "metadata": {},
   "source": [
    "-----------------------------------------"
   ]
  },
  {
   "cell_type": "markdown",
   "metadata": {},
   "source": [
    "-----------------------------------------"
   ]
  },
  {
   "cell_type": "markdown",
   "metadata": {},
   "source": [
    "-----------------------------------------"
   ]
  },
  {
   "cell_type": "code",
   "execution_count": null,
   "metadata": {},
   "outputs": [],
   "source": [
    "\n",
    "c = depenseParClient.copy()\n",
    "c = c.sort_values(by='price')\n",
    "c = c.reset_index()\n",
    "c = c.drop(columns='index')\n",
    "\n",
    "\n",
    "dep = c['price'].values\n",
    "lorenz = np.cumsum(np.sort(dep)) / dep.sum()\n",
    "lorenz = np.append([0],lorenz) # La courbe de Lorenz commence à 0\n",
    "\n",
    "plt.figure(figsize=(10,10))\n",
    "plt.plot([0.0, 1.0],color='red')\n",
    "plt.plot(np.linspace(0,1,len(lorenz)),lorenz)\n",
    "\n",
    "plt.title('Courbe de concentration des depense des clients', fontsize=15)\n",
    "plt.ylabel('Pourcentage cumuler des richesse des clients', fontsize=13)\n",
    "plt.xlabel('Pourcentage cumuler de la population de clients', fontsize=13)\n",
    "plt.grid(True)\n",
    "plt.show()\n"
   ]
  },
  {
   "cell_type": "code",
   "execution_count": null,
   "metadata": {},
   "outputs": [],
   "source": [
    "aire_ss_courbe = lorenz[:-1].sum()/len(lorenz) # aire sous la courbe de Lorenz. La dernière valeur ne participe pas à l'aire, d'où \"[:-1]\"\n",
    "S = 0.5 - aire_ss_courbe # aire entre la 1e bissectrice et la courbe de Lorenz\n",
    "gini = 2*S\n",
    "gini"
   ]
  },
  {
   "cell_type": "markdown",
   "metadata": {},
   "source": [
    "La forme etrange de la courbe a la fin indique bien que la repartition au seins des clients est inegale. On voit ici que moins de 1% des clients represente un peu moins de 10% du ca de l'entreprise."
   ]
  },
  {
   "cell_type": "code",
   "execution_count": null,
   "metadata": {},
   "outputs": [],
   "source": [
    "depenseParClient.sort_values(by='price',ascending=False)[:5].price.sum() * 100 / depenseParClient.price.sum()"
   ]
  },
  {
   "cell_type": "markdown",
   "metadata": {},
   "source": [
    "\n",
    "Nous avons ci dessus la preuvent par calcule que les 5 clients les plus depensier, qui ne represente que 0.001% du portefeuille clients apport 7% du CA a l'entreprise\n",
    "\n",
    "### Depense en fonction de l'age\n",
    "\n",
    "Ici nous allons voire les depense des clients en fonction de leur age."
   ]
  },
  {
   "cell_type": "code",
   "execution_count": null,
   "metadata": {},
   "outputs": [],
   "source": [
    "achatParAge = pd.pivot_table(tab_transactionsComplete, values='price',index='age', aggfunc='sum' )\n",
    "achatParAge = achatParAge.reset_index()\n",
    "\n",
    "tranche_age = 5\n",
    "test = np.arange(15,100,tranche_age)\n",
    "groupes_age=[]\n",
    "\n",
    "for ind, nb in enumerate(test):\n",
    "    a=0\n",
    "    a = achatParAge[(achatParAge['age'] >= nb) & (achatParAge['age'] < nb+tranche_age)].sum()\n",
    "    d={\n",
    "        'age':'{}~{}'.format(nb, nb+tranche_age),\n",
    "        'price':a[1].round(3)\n",
    "    }\n",
    "    groupes_age.append(d)\n",
    "    \n",
    "df_trancheAge = pd.DataFrame(groupes_age)\n",
    "\n",
    "#On ajoute cette petite ligne pour enlever le derniere elements dont nous n'avons pas besoin\n",
    "df_trancheAge = df_trancheAge[:-1]\n"
   ]
  },
  {
   "cell_type": "code",
   "execution_count": null,
   "metadata": {},
   "outputs": [],
   "source": [
    "\n",
    "df_trancheAge.plot.bar('age','price',\n",
    "                       figsize=(15,10),\n",
    "                       rot =0,\n",
    "                       width = 1,\n",
    "                       edgecolor = 'black',\n",
    "                       color='royalblue',\n",
    "                      legend=None)\n",
    "\n",
    "plt.xlabel(\"Tranche d'age\",fontsize=15)\n",
    "plt.ylabel(\"Somme depenser\",fontsize=15)\n",
    "plt.title(\"Repartition des achats en fonctions de l'age\",fontsize=20)\n",
    "plt.grid(False)\n",
    "plt.show()\n"
   ]
  },
  {
   "cell_type": "markdown",
   "metadata": {},
   "source": [
    "Nous avons si dessus la repartition des achats en fonctions de l'age de nos clients, il est notable de voire qu'une tranche d'age sort du lot\n",
    "\n",
    "# Etude des produits \n",
    "\n",
    "Ici nous allons nous interresser a la repartions des prix des produits et nous etudirons les categories de ces derniers\n",
    "\n",
    "### Le catalogue\n",
    "\n",
    "ici nous etudirons le fichier _pro_ qui contient tout les article proposer sur le site."
   ]
  },
  {
   "cell_type": "code",
   "execution_count": null,
   "metadata": {},
   "outputs": [],
   "source": [
    "nb_deProduit = pro.id_prod.value_counts().sum()\n",
    "nb_deProduitParCateg = pro.categ.value_counts()\n",
    "prix_moyen = pro.price.mean()\n",
    "prix_modale = pro.price.mode()[0]\n",
    "prix_median = pro.price.median()\n",
    "prix_min = pro.price.min()\n",
    "prix_max =pro.price.max()\n",
    "ecarttype_prix = pro.price.std()\n",
    "variance_prix = pro.price.var()\n"
   ]
  },
  {
   "cell_type": "code",
   "execution_count": null,
   "metadata": {},
   "outputs": [],
   "source": [
    "print('Le prix maximum est a {} €\\n le minimum est a {}€ \\n le prix moyen est a {}€ \\n avec un ecat-type de {} \\n le prix median est a {}€ \\n le modale a {}€, \\n il y a {} produits differents'\n",
    "      .format(prix_max,prix_min,\"%.2f\" % prix_moyen, \"%.2f\" % ecarttype_prix, prix_median,prix_modale,nb_deProduit))"
   ]
  },
  {
   "cell_type": "code",
   "execution_count": null,
   "metadata": {},
   "outputs": [],
   "source": [
    "pro['price'].plot.hist(figsize=(15,10),bins = range(0,300,5) , edgecolor = 'orange', label='prix')\n",
    "plt.xlabel('Prix',fontsize=15)\n",
    "plt.ylabel('Nombre de produit',fontsize=15)\n",
    "plt.title('Répartition des produits selon leur prix',fontsize=20)\n",
    "plt.axis([0, 300, 0, 750])\n",
    "plt.grid(False)\n",
    "plt.legend()\n",
    "plt.show()\n"
   ]
  },
  {
   "cell_type": "markdown",
   "metadata": {},
   "source": [
    "Petite courbe de concentration pour bien marquer la repartition des produits"
   ]
  },
  {
   "cell_type": "code",
   "execution_count": null,
   "metadata": {},
   "outputs": [],
   "source": [
    "d = pro.copy()\n",
    "d = d.sort_values(by='price')\n",
    "d = d.reset_index()\n",
    "d = d.drop(columns=['categ','index'])\n",
    "\n",
    "\n",
    "dep = d['price'].values\n",
    "lorenz = np.cumsum(np.sort(dep)) / dep.sum()\n",
    "lorenz = np.append([0],lorenz) # La courbe de Lorenz commence à 0\n",
    "\n",
    "plt.figure(figsize=(10,10))\n",
    "plt.plot([0.0, 1.0],color='red')\n",
    "plt.plot(np.linspace(0,1,len(lorenz)),lorenz)\n",
    "\n",
    "plt.title('Courbe de lorenz des depenses des Produits', fontsize=15)\n",
    "plt.ylabel('Pourcentage cumuler des richesse des produits', fontsize=13)\n",
    "plt.xlabel('Pourcentage cumuler de la population de produits', fontsize=13)\n",
    "plt.grid(True)\n",
    "plt.show()"
   ]
  },
  {
   "cell_type": "code",
   "execution_count": null,
   "metadata": {},
   "outputs": [],
   "source": [
    "aire_ss_courbe = lorenz[:-1].sum()/len(lorenz) # aire sous la courbe de Lorenz. La dernière valeur ne participe pas à l'aire, d'où \"[:-1]\"\n",
    "S = 0.5 - aire_ss_courbe # aire entre la 1e bissectrice et la courbe de Lorenz\n",
    "gini = 2*S\n",
    "gini"
   ]
  },
  {
   "cell_type": "markdown",
   "metadata": {},
   "source": [
    "### Les categories\n",
    "\n",
    "Penchons nous un peut plus sur les categories"
   ]
  },
  {
   "cell_type": "code",
   "execution_count": null,
   "metadata": {},
   "outputs": [],
   "source": [
    "nb_deProduitParCateg.plot.pie(autopct='%.2f', figsize=(6,6), fontsize=20)\n",
    "plt.title('Repartition de la representation des categories au seins des produits(%)', fontsize=20)\n",
    "plt.axis('equal')\n",
    "plt.show()\n"
   ]
  },
  {
   "cell_type": "markdown",
   "metadata": {},
   "source": [
    "Pour poursuivre sur les categorie, voici le prix moyen de chaque categories, prix que nous avons utiliser deja precedement."
   ]
  },
  {
   "cell_type": "code",
   "execution_count": null,
   "metadata": {},
   "outputs": [],
   "source": [
    "prixMoyenCateg = pd.pivot_table(tab_transactionsComplete, index='categ', values='price', aggfunc='mean')\n",
    "prixMoyenCateg.round(3)"
   ]
  },
  {
   "cell_type": "markdown",
   "metadata": {},
   "source": [
    "la categorie 0 a un prix moyen de 10 euro la categorie 1 de 20 et la 2 de 75 euro (arondit a l'euro pres)\n",
    "\n",
    "### Repartition par categories\n",
    "\n",
    "Nous allons etudier la repartition des achats par categories au cours de l'année"
   ]
  },
  {
   "cell_type": "code",
   "execution_count": null,
   "metadata": {},
   "outputs": [],
   "source": [
    "# ------------------------------------------------------------------------------------------\n",
    "\n",
    "repParCateg_catalogue = pro.copy()\n",
    "\n",
    "#creation de sous liste\n",
    "prixCateg0 = repParCateg_catalogue[repParCateg_catalogue['categ'] == 0 ]['price']\n",
    "prixCateg1 = repParCateg_catalogue[repParCateg_catalogue['categ'] == 1 ]['price']\n",
    "prixCateg2 = repParCateg_catalogue[repParCateg_catalogue['categ'] == 2 ]['price']\n",
    "\n",
    "#Taille de la figure\n",
    "plt.figure(figsize=(15,10))\n",
    "\n",
    "#Creation du boxplot\n",
    "boxplotElements  = plt.boxplot([prixCateg0,prixCateg1,prixCateg2],\n",
    "            whis = 'range',\n",
    "           patch_artist=True)\n",
    "\n",
    "#coloration de  la median\n",
    "for element in boxplotElements['medians']:\n",
    "    element.set_color('red')\n",
    "    element.set_linewidth(1)\n",
    "\n",
    "#Details du graph\n",
    "plt.gca().xaxis.set_ticklabels(['Categorie 0', 'Categorie 1', 'Categorie 2'])   \n",
    "plt.ylabel('Prix', fontsize=15)\n",
    "plt.xlabel('Categorie', fontsize=15)\n",
    "plt.title('Repartition des achat par categories', fontsize=20)\n",
    "plt.grid(True)\n",
    "plt.show()"
   ]
  },
  {
   "cell_type": "markdown",
   "metadata": {},
   "source": [
    "ici nous pouvons voire la repartition des prix de chaque categories\n",
    "\n",
    "Passons ici les details des calcules habituel"
   ]
  },
  {
   "cell_type": "code",
   "execution_count": null,
   "metadata": {},
   "outputs": [],
   "source": [
    "#Categ0\n",
    "nb_deProduit_categ0_catalogue = pro[pro.categ==0].id_prod.value_counts().sum()\n",
    "nb_deProduitParCateg_categ0_catalogue = pro[pro.categ==0].categ.value_counts()\n",
    "prix_moyen_categ0_catalogue = pro[pro.categ==0].price.mean()\n",
    "prix_modale_categ0_catalogue = pro[pro.categ==0].price.mode()[0]\n",
    "prix_median_categ0_catalogue = pro[pro.categ==0].price.median()\n",
    "prix_min_categ0_catalogue = pro[pro.categ==0].price.min()\n",
    "prix_max_categ0_catalogue = pro[pro.categ==0].price.max()\n",
    "ecarttype_prix_categ0_catalogue = pro[pro.categ==0].price.std()\n",
    "variance_prix_categ0_catalogue = pro[pro.categ==0].price.var()\n",
    "\n",
    "\n",
    "#Categ1\n",
    "nb_deProduit_categ1_catalogue = pro[pro.categ == 1].id_prod.value_counts().sum()\n",
    "nb_deProduitParCateg_categ1_catalogue = pro[pro.categ == 1].categ.value_counts()\n",
    "prix_moyen_categ1_catalogue = pro[pro.categ == 1].price.mean()\n",
    "prix_modale_categ1_catalogue = pro[pro.categ == 1].price.mode()[0]\n",
    "prix_median_categ1_catalogue = pro[pro.categ == 1].price.median()\n",
    "prix_min_categ1_catalogue = pro[pro.categ == 1].price.min()\n",
    "prix_max_categ1_catalogue = pro[pro.categ == 1].price.max()\n",
    "ecarttype_prix_categ1_catalogue = pro[pro.categ == 1].price.std()\n",
    "variance_prix_categ1_catalogue = pro[pro.categ == 1].price.var()\n",
    "\n",
    "\n",
    "#Categ2\n",
    "nb_deProduit_categ2_catalogue = pro[pro.categ == 2].id_prod.value_counts().sum()\n",
    "nb_deProduitParCateg_categ2_catalogue = pro[pro.categ == 2].categ.value_counts()\n",
    "prix_moyen_categ2_catalogue = pro[pro.categ == 2].price.mean()\n",
    "prix_modale_categ2_catalogue = pro[pro.categ == 2].price.mode()[0]\n",
    "prix_median_categ2_catalogue = pro[pro.categ == 2].price.median()\n",
    "prix_min_categ2_catalogue = pro[pro.categ == 2].price.min()\n",
    "prix_max_categ2_catalogue = pro[pro.categ == 2].price.max()\n",
    "ecarttype_prix_categ2_catalogue = pro[pro.categ == 2].price.std()\n",
    "variance_prix_categ2_catalogue = pro[pro.categ == 2].price.var()\n"
   ]
  },
  {
   "cell_type": "code",
   "execution_count": null,
   "metadata": {},
   "outputs": [],
   "source": [
    "print('Pour la categorie 0 \\n Le prix maximum est a {} €\\n le minimum est a {}€ \\n le prix moyen est a {}€ \\n avec un ecat-type de {} \\n le prix median est a {}€ \\n le modale a {}€, \\n il y a {} produits differents'\n",
    "      .format(prix_max_categ0_catalogue,\n",
    "              prix_min_categ0_catalogue,\n",
    "              \"%.2f\" % prix_moyen_categ0_catalogue,\n",
    "              \"%.2f\" % ecarttype_prix_categ0_catalogue,\n",
    "              prix_median_categ0_catalogue,\n",
    "              prix_modale_categ0_catalogue,\n",
    "              nb_deProduit_categ0_catalogue\n",
    "             ))\n"
   ]
  },
  {
   "cell_type": "code",
   "execution_count": null,
   "metadata": {},
   "outputs": [],
   "source": [
    "print('Pour la categorie 1 \\n Le prix maximum est a {} €\\n le minimum est a {}€ \\n le prix moyen est a {}€ \\n avec un ecat-type de {} \\n le prix median est a {}€ \\n le modale a {}€, \\n il y a {} produits differents'\n",
    "      .format(prix_max_categ1_catalogue,\n",
    "              prix_min_categ1_catalogue,\n",
    "              \"%.2f\" % prix_moyen_categ1_catalogue, \n",
    "              \"%.2f\" % ecarttype_prix_categ1_catalogue, \n",
    "              prix_median_categ1_catalogue,\n",
    "              prix_modale_categ1_catalogue,\n",
    "              nb_deProduit_categ1_catalogue))\n"
   ]
  },
  {
   "cell_type": "code",
   "execution_count": null,
   "metadata": {},
   "outputs": [],
   "source": [
    "print('Pour la categorie 2\\n Le prix maximum est a {} €\\n le minimum est a {}€ \\n le prix moyen est a {}€ \\n avec un ecat-type de {} \\n le prix median est a {}€ \\n le modale a {}€, \\n il y a {} produits differents'\n",
    "      .format(prix_max_categ2_catalogue,\n",
    "              prix_min_categ2_catalogue,\n",
    "              \"%.2f\" % prix_moyen_categ2_catalogue,\n",
    "              \"%.2f\" % ecarttype_prix_categ2_catalogue,\n",
    "              prix_median_categ2_catalogue,\n",
    "              prix_modale_categ2_catalogue,\n",
    "              nb_deProduit_categ2_catalogue))"
   ]
  },
  {
   "cell_type": "markdown",
   "metadata": {},
   "source": [
    "### Etude des produits acheter \n",
    "\n",
    "Ici nous allons nous interresser au produits acheter, a savoir leur repartition en fonction de leur prix ou encore la categorie la plus acheter."
   ]
  },
  {
   "cell_type": "code",
   "execution_count": null,
   "metadata": {},
   "outputs": [],
   "source": [
    "df_ProduitVendu = tab_transactionsComplete.copy()\n",
    "df_ProduitVendu = df_ProduitVendu.drop(columns=(['date', 'session_id', 'client_id', 'sex', 'birth', 'age']))\n",
    "df_ProduitVendu.head()\n"
   ]
  },
  {
   "cell_type": "code",
   "execution_count": null,
   "metadata": {},
   "outputs": [],
   "source": [
    "df_ProduitVendu['price'].plot.hist(figsize=(15,10),bins = range(0,300,5) , edgecolor = 'orange', label='prix')\n",
    "plt.xlabel('Prix',fontsize=15)\n",
    "plt.ylabel('Nombre de produit',fontsize=15)\n",
    "plt.title('Répartition des produits acheter selon leur prix',fontsize=20)\n",
    "plt.axis([0, 300, 0, 85000])\n",
    "plt.grid(False)\n",
    "plt.legend()\n",
    "plt.show()"
   ]
  },
  {
   "cell_type": "code",
   "execution_count": null,
   "metadata": {},
   "outputs": [],
   "source": [
    "nb_deProduit_acheter = df_ProduitVendu.id_prod.value_counts().sum()\n",
    "nb_deProduitParCateg_acheter = df_ProduitVendu.categ.value_counts()\n",
    "prix_moyen_acheter = df_ProduitVendu.price.mean()\n",
    "prix_modale_acheter = df_ProduitVendu.price.mode()[0]\n",
    "prix_median_acheter = df_ProduitVendu.price.median()\n",
    "prix_min_acheter = df_ProduitVendu.price.min()\n",
    "prix_max_acheter =df_ProduitVendu.price.max()\n",
    "ecarttype_prix_acheter = df_ProduitVendu.price.std()\n",
    "variance_prix_acheter = df_ProduitVendu.price.var()\n"
   ]
  },
  {
   "cell_type": "code",
   "execution_count": null,
   "metadata": {},
   "outputs": [],
   "source": [
    "print('Le prix maximum est a {} €\\n le minimum est a {}€ \\n le prix moyen est a {}€ \\n avec un ecat-type de {} \\n le prix median est a {}€ \\n le modale a {}€, \\n il y a {} produits acheter cette année'\n",
    "      .format(prix_max_acheter,prix_min_acheter,\"%.2f\" % prix_moyen_acheter, \"%.2f\" % ecarttype_prix_acheter, prix_median_acheter,prix_modale_acheter,nb_deProduit_acheter))"
   ]
  },
  {
   "cell_type": "code",
   "execution_count": null,
   "metadata": {},
   "outputs": [],
   "source": [
    "nb_deProduitParCateg_acheter.plot.pie(autopct='%.2f', figsize=(6,6), fontsize=20)\n",
    "plt.title('Repartition de la representation des categories au seins des produits(%)', fontsize=20)\n",
    "plt.axis('equal')\n",
    "plt.show()"
   ]
  },
  {
   "cell_type": "code",
   "execution_count": null,
   "metadata": {},
   "outputs": [],
   "source": [
    "df_NbAchatParProduits = pd.pivot_table(tab_transactionsComplete, values='client_id', index='id_prod', aggfunc='count')\n",
    "df_NbAchatParProduits.sort_values(by='client_id', ascending=False).head(10)"
   ]
  },
  {
   "cell_type": "markdown",
   "metadata": {},
   "source": [
    "Voici la liste des 10 produits qui ce sont le mieux vendu"
   ]
  },
  {
   "cell_type": "code",
   "execution_count": null,
   "metadata": {},
   "outputs": [],
   "source": [
    "transaction_parProduit = df_ProduitVendu.id_prod.value_counts()\n",
    "len(transaction_parProduit[transaction_parProduit <= 12]) * 100 / nb_deProduit"
   ]
  },
  {
   "cell_type": "markdown",
   "metadata": {},
   "source": [
    "Ici nous pouvons voire que 33% du catalogue est vendu 12 fois ou moins dans l'année"
   ]
  },
  {
   "cell_type": "markdown",
   "metadata": {},
   "source": [
    "### Repartition par categories\n",
    "\n",
    "Nous allons etudier la repartition des achats par categories au cours de l'année"
   ]
  },
  {
   "cell_type": "code",
   "execution_count": null,
   "metadata": {},
   "outputs": [],
   "source": [
    "repParCateg = tab_transactionsComplete.copy()\n",
    "repParCateg = repParCateg.drop(columns=['date','id_prod','session_id','client_id', 'birth', 'age', 'sex'])\n",
    "\n",
    "#creation de sous liste\n",
    "prixCateg0 = repParCateg[repParCateg['categ'] == 0 ]['price']\n",
    "prixCateg1 = repParCateg[repParCateg['categ'] == 1 ]['price']\n",
    "prixCateg2 = repParCateg[repParCateg['categ'] == 2 ]['price']\n",
    "\n",
    "#Taille de la figure\n",
    "plt.figure(figsize=(15,10))\n",
    "\n",
    "#Creation du boxplot\n",
    "boxplotElements  = plt.boxplot([prixCateg0,prixCateg1,prixCateg2],\n",
    "            whis = 'range',\n",
    "           patch_artist=True)\n",
    "\n",
    "#coloration de  la median\n",
    "for element in boxplotElements['medians']:\n",
    "    element.set_color('red')\n",
    "    element.set_linewidth(1)\n",
    "\n",
    "#Details du graph\n",
    "plt.gca().xaxis.set_ticklabels(['Categorie 0', 'Categorie 1', 'Categorie 2'])   \n",
    "plt.ylabel('Prix', fontsize=15)\n",
    "plt.xlabel('Categorie', fontsize=15)\n",
    "plt.title('Repartition des achat par categories', fontsize=20)\n",
    "plt.grid(True)\n",
    "plt.show()"
   ]
  },
  {
   "cell_type": "markdown",
   "metadata": {},
   "source": [
    "ici nous pouvons voire la repartition des prix de chaque categories\n",
    "\n",
    "Passons ici les details des calcules habituel"
   ]
  },
  {
   "cell_type": "code",
   "execution_count": null,
   "metadata": {},
   "outputs": [],
   "source": [
    "#Categ0\n",
    "nb_deProduit_categ0 = tab_transactionsComplete[tab_transactionsComplete.categ==0].id_prod.value_counts().sum()\n",
    "nb_deProduitParCateg_categ0 = tab_transactionsComplete[tab_transactionsComplete.categ==0].categ.value_counts()\n",
    "prix_moyen_categ0 = tab_transactionsComplete[tab_transactionsComplete.categ==0].price.mean()\n",
    "prix_modale_categ0 = tab_transactionsComplete[tab_transactionsComplete.categ==0].price.mode()[0]\n",
    "prix_median_categ0 = tab_transactionsComplete[tab_transactionsComplete.categ==0].price.median()\n",
    "prix_min_categ0 = tab_transactionsComplete[tab_transactionsComplete.categ==0].price.min()\n",
    "prix_max_categ0 = tab_transactionsComplete[tab_transactionsComplete.categ==0].price.max()\n",
    "ecarttype_prix_categ0 = tab_transactionsComplete[tab_transactionsComplete.categ==0].price.std()\n",
    "variance_prix_categ0 = tab_transactionsComplete[tab_transactionsComplete.categ==0].price.var()\n",
    "\n",
    "\n",
    "#Categ1\n",
    "nb_deProduit_categ1 = tab_transactionsComplete[tab_transactionsComplete.categ == 1].id_prod.value_counts().sum()\n",
    "nb_deProduitParCateg_categ1 = tab_transactionsComplete[tab_transactionsComplete.categ == 1].categ.value_counts()\n",
    "prix_moyen_categ1 = tab_transactionsComplete[tab_transactionsComplete.categ == 1].price.mean()\n",
    "prix_modale_categ1 = tab_transactionsComplete[tab_transactionsComplete.categ == 1].price.mode()[0]\n",
    "prix_median_categ1 = tab_transactionsComplete[tab_transactionsComplete.categ == 1].price.median()\n",
    "prix_min_categ1 = tab_transactionsComplete[tab_transactionsComplete.categ == 1].price.min()\n",
    "prix_max_categ1 = tab_transactionsComplete[tab_transactionsComplete.categ == 1].price.max()\n",
    "ecarttype_prix_categ1 = tab_transactionsComplete[tab_transactionsComplete.categ == 1].price.std()\n",
    "variance_prix_categ1 = tab_transactionsComplete[tab_transactionsComplete.categ == 1].price.var()\n",
    "\n",
    "\n",
    "#Categ2\n",
    "nb_deProduit_categ2 = tab_transactionsComplete[tab_transactionsComplete.categ == 2].id_prod.value_counts().sum()\n",
    "nb_deProduitParCateg_categ2 = tab_transactionsComplete[tab_transactionsComplete.categ == 2].categ.value_counts()\n",
    "prix_moyen_categ2 = tab_transactionsComplete[tab_transactionsComplete.categ == 2].price.mean()\n",
    "prix_modale_categ2 = tab_transactionsComplete[tab_transactionsComplete.categ == 2].price.mode()[0]\n",
    "prix_median_categ2 = tab_transactionsComplete[tab_transactionsComplete.categ == 2].price.median()\n",
    "prix_min_categ2 = tab_transactionsComplete[tab_transactionsComplete.categ == 2].price.min()\n",
    "prix_max_categ2 = tab_transactionsComplete[tab_transactionsComplete.categ == 2].price.max()\n",
    "ecarttype_prix_categ2 = tab_transactionsComplete[tab_transactionsComplete.categ == 2].price.std()\n",
    "variance_prix_categ2 = tab_transactionsComplete[tab_transactionsComplete.categ == 2].price.var()"
   ]
  },
  {
   "cell_type": "code",
   "execution_count": null,
   "metadata": {},
   "outputs": [],
   "source": [
    "print('Pour la categorie 0 \\n Le prix maximum est a {} €\\n le minimum est a {}€ \\n le prix moyen est a {}€ \\n avec un ecat-type de {} \\n le prix median est a {}€ \\n le modale a {}€, \\n il y a {} produits vendu'\n",
    "      .format(prix_max_categ0,prix_min_categ0,\"%.2f\" % prix_moyen_categ0, \"%.2f\" % ecarttype_prix_categ0, prix_median_categ0,prix_modale_categ0,nb_deProduit_categ0))\n"
   ]
  },
  {
   "cell_type": "code",
   "execution_count": null,
   "metadata": {},
   "outputs": [],
   "source": [
    "print('Pour la categorie 1 \\n Le prix maximum est a {} €\\n le minimum est a {}€ \\n le prix moyen est a {}€ \\n avec un ecat-type de {} \\n le prix median est a {}€ \\n le modale a {}€, \\n il y a {} produits vendu'\n",
    "      .format(prix_max_categ1,prix_min_categ1,\"%.2f\" % prix_moyen_categ1, \"%.2f\" % ecarttype_prix_categ1, prix_median_categ1,prix_modale_categ1,nb_deProduit_categ1))\n"
   ]
  },
  {
   "cell_type": "code",
   "execution_count": null,
   "metadata": {},
   "outputs": [],
   "source": [
    "print('Pour la categorie 2\\n Le prix maximum est a {} €\\n le minimum est a {}€ \\n le prix moyen est a {}€ \\n avec un ecat-type de {} \\n le prix median est a {}€ \\n le modale a {}€, \\n il y a {} produits vendu'\n",
    "      .format(prix_max_categ2,prix_min_categ2,\"%.2f\" % prix_moyen_categ2, \"%.2f\" % ecarttype_prix_categ2, prix_median_categ2,prix_modale_categ2,nb_deProduit_categ2))"
   ]
  },
  {
   "cell_type": "markdown",
   "metadata": {},
   "source": [
    "### repartition des achats de chaque categorie par tranche d'age "
   ]
  },
  {
   "cell_type": "code",
   "execution_count": null,
   "metadata": {},
   "outputs": [],
   "source": [
    "repAchatAgeCateg = pd.pivot_table(tab_transactionsComplete, values='price',index='age', columns='categ', aggfunc='sum' )\n",
    "repAchatAgeCateg = repAchatAgeCateg.reset_index()\n",
    "repAchatAgeCateg.head()   \n",
    "taille_classe = 5.0 \n",
    "groupes = []\n",
    "\n",
    "\n",
    "\n",
    "tranches = np.arange(15,100,tranche_age)\n",
    "\n",
    "for ind, tr in enumerate(tranches):\n",
    "        a = 0\n",
    "        a = repAchatAgeCateg[(repAchatAgeCateg['age'] >= tr) & (repAchatAgeCateg['age'] < tr+taille_classe)].sum()\n",
    "        g={'age':'{}~{}'.format(tr, tr+tranche_age),\n",
    "           'categ0':a[0],\n",
    "           'categ1':a[1],\n",
    "           'categ2':a[2]}\n",
    "        groupes.append(g)\n",
    "\n",
    "groupes = pd.DataFrame(groupes)\n",
    "groupes = groupes.round(3)\n",
    "#On ajoute cette petite ligne pour enlever le derniere elements dont nous n'avons pas besoin\n",
    "groupes = groupes[:-1]\n",
    "\n",
    "\n",
    "groupes[['categ0','categ1','categ2']].plot(kind='bar', stacked=True,rot=0,figsize=(15,10),width=1)\n",
    "\n",
    "plt.xticks(np.arange(0, 16, 1),(groupes.age))\n",
    "plt.xlabel(\"Tranche d'age\",fontsize=15)\n",
    "plt.ylabel(\"Somme depenser\",fontsize=15)\n",
    "plt.title(\"Repartition des achats en fonctions de l'age\",fontsize=20)\n",
    "plt.grid(False)\n",
    "plt.legend()\n",
    "\n",
    "plt.show()\n"
   ]
  },
  {
   "cell_type": "markdown",
   "metadata": {},
   "source": [
    "### Evolution du ca par categories "
   ]
  },
  {
   "cell_type": "code",
   "execution_count": null,
   "metadata": {},
   "outputs": [],
   "source": [
    "evoCACateg = pd.pivot_table(tab_transactionsComplete, values='price', index= tab_transactionsComplete.date.dt.month, columns='categ', aggfunc='sum')\n",
    "evoCACateg = evoCACateg.reset_index()\n",
    "\n",
    "evoCACateg[[0,1,2]].plot(kind='bar', stacked=True,rot=0,figsize=(15,10),width=0.8)\n",
    "\n",
    "plt.xticks(np.arange(0, 12, 1),('Janvier','Fevrier','Avril','Mars','Mai','Juin','Juillet','Août','Septembre', 'Octobre', 'Novembre','Décembre'))\n",
    "plt.yticks(np.arange(0, 550000, 50000))\n",
    "plt.xlabel('date',fontsize=15)\n",
    "plt.ylabel(\"Valeur €\",fontsize=15)\n",
    "plt.title(\"Evolution du CA en fonction des categories durant l'année\",fontsize=20)\n",
    "plt.grid(False)\n",
    "plt.legend(['categ 0','categ 1','categ 2'])\n",
    "plt.show()"
   ]
  },
  {
   "cell_type": "markdown",
   "metadata": {},
   "source": [
    "# Etude des paniers\n",
    "\n",
    "Dans cette partie nous nous concentreront sur les paniers des client, nous observeront egalement leur evolutions tout au long de cette année, et ainsi nous pourrons sortir les periodes les plus populaire au pres des clients\n"
   ]
  },
  {
   "cell_type": "code",
   "execution_count": null,
   "metadata": {},
   "outputs": [],
   "source": [
    "toutPanierAnnee = pd.pivot_table(tab_transactionsComplete, values='price', index='session_id', aggfunc='sum')\n",
    "\n",
    "panierMoyen = toutPanierAnnee.mean()\n",
    "panierModale = toutPanierAnnee.mode()\n",
    "panierMedian = toutPanierAnnee.median()\n",
    "ecarttype_panier = toutPanierAnnee.std()[0]\n",
    "variance_panier = toutPanierAnnee.var()\n",
    "nb_dePanier = toutPanierAnnee.size\n",
    "gainPanier = toutPanierAnnee.sum()[0]\n",
    "\n",
    "# 1 session = 1 panier\n",
    "toutPanierAnnee.head()\n"
   ]
  },
  {
   "cell_type": "code",
   "execution_count": null,
   "metadata": {},
   "outputs": [],
   "source": [
    "print(\"Panier moyen = {}€, \\n panier median = {}€, \\n panier modale = {}€, \\n ecart-type : {}, \\n Il y a eu un chiffre d'affaire de {}€ pour un total de {} paniers\"\n",
    "      .format(\"%.2f\" % panierMoyen,\"%.2f\" %  panierMedian[0], panierModale.values[0], \"%.2f\" % ecarttype_panier,\"%.2f\" % gainPanier, nb_dePanier))\n"
   ]
  },
  {
   "cell_type": "code",
   "execution_count": null,
   "metadata": {},
   "outputs": [],
   "source": [
    "toutPanierAnneeParClient = pd.pivot_table(tab_transactionsComplete, values='session_id', index='client_id', aggfunc='count')\n",
    "\n",
    "NbPanierMoyenParClient = toutPanierAnneeParClient.mean()\n",
    "NbPanierModalParClient = toutPanierAnneeParClient.mode()\n",
    "NbPanierMedianParClient = toutPanierAnneeParClient.median()\n",
    "ecarttype_NbPanierParClient = toutPanierAnneeParClient.std()\n",
    "variance_NbPanierParClient = toutPanierAnneeParClient.var()\n",
    "\n",
    "toutPanierAnneeParClient.head()"
   ]
  },
  {
   "cell_type": "code",
   "execution_count": null,
   "metadata": {},
   "outputs": [],
   "source": [
    "print(\"Nombre moyen de panier par client: {},\\n Nombre median de panier par client: {},\\n Nombre modale de panier par client: {},\\n ecart-type: {},  variance: {},\\n min: {}, max: {}\"\n",
    "      .format(\"%.2f\" % NbPanierMoyenParClient,\n",
    "              \"%.2f\" %  NbPanierMedianParClient,\n",
    "              NbPanierModalParClient.values[0],\n",
    "              \"%.2f\" % ecarttype_NbPanierParClient,\n",
    "              \"%.2f\" % variance_NbPanierParClient,\n",
    "              toutPanierAnneeParClient.min()[0],\n",
    "              toutPanierAnneeParClient.max()[0]\n",
    "             ))\n"
   ]
  },
  {
   "cell_type": "code",
   "execution_count": null,
   "metadata": {},
   "outputs": [],
   "source": [
    "toutPanierAnnee['price'].plot.hist(figsize=(15,10),bins = range(0,300,5) , edgecolor = 'orange', label='prix')\n",
    "plt.xlabel('Prix (pas de 5€)',fontsize=15)\n",
    "plt.ylabel('Nombre de panier',fontsize=15)\n",
    "plt.title('Repartition du nombre de panier selon leur prix',fontsize=20)\n",
    "plt.axis([0, 300, 0, 25000])\n",
    "plt.grid(False)\n",
    "plt.legend()\n",
    "plt.show()\n"
   ]
  },
  {
   "cell_type": "code",
   "execution_count": null,
   "metadata": {},
   "outputs": [],
   "source": [
    "e = toutPanierAnnee.copy()\n",
    "e = e.sort_values(by='price')\n",
    "e = e.reset_index()\n",
    "\n",
    "dep = e['price'].values\n",
    "lorenz = np.cumsum(np.sort(dep)) / dep.sum()\n",
    "lorenz = np.append([0],lorenz) # La courbe de Lorenz commence à 0\n",
    "\n",
    "plt.figure(figsize=(10,10))\n",
    "plt.plot([0.0, 1.0],color='red')\n",
    "plt.plot(np.linspace(0,1,len(lorenz)),lorenz)\n",
    "\n",
    "plt.title('Courbe de concentration des paniers', fontsize=15)\n",
    "plt.ylabel('Pourcentage cumuler des richesse des paniers', fontsize=13)\n",
    "plt.xlabel('Pourcentage cumuler du nombre de panier', fontsize=13)\n",
    "plt.grid(True)\n",
    "plt.show()"
   ]
  },
  {
   "cell_type": "code",
   "execution_count": null,
   "metadata": {},
   "outputs": [],
   "source": [
    "aire_ss_courbe = lorenz[:-1].sum()/len(lorenz) # aire sous la courbe de Lorenz. La dernière valeur ne participe pas à l'aire, d'où \"[:-1]\"\n",
    "S = 0.5 - aire_ss_courbe # aire entre la 1e bissectrice et la courbe de Lorenz\n",
    "gini = 2*S\n",
    "gini"
   ]
  },
  {
   "cell_type": "markdown",
   "metadata": {},
   "source": [
    "Encore une fois notre courbe de concentration concorde avec nos observation sur la repartition des paniers. Ces derniers sont beaucoup de paniers \"pas chere\" et quelque un sont \"tres chere\" ce qui destabilise la balance.\n",
    "\n",
    "# Correlation\n",
    "\n",
    "Dans cette partie nous regarderons s'il existe une correlation, un lien, entre les données\n",
    "\n",
    "## Correlation: Sexes Catégories\n"
   ]
  },
  {
   "cell_type": "code",
   "execution_count": null,
   "metadata": {},
   "outputs": [],
   "source": [
    "corrSexCateg = tab_transactionsComplete[['sex','categ']].pivot_table(index='sex', columns='categ', aggfunc=len)\n",
    "c = corrSexCateg.copy()\n",
    "\n",
    "tx = tab_transactionsComplete['sex'].value_counts()\n",
    "ty = tab_transactionsComplete['categ'].value_counts()\n",
    "\n",
    "c.loc[:,'Total'] = tx\n",
    "c.loc['total',:] = ty\n",
    "c.loc['total','Total'] = len(tab_transactionsComplete)\n",
    "\n",
    "c"
   ]
  },
  {
   "cell_type": "code",
   "execution_count": null,
   "metadata": {},
   "outputs": [],
   "source": [
    "tx = pd.DataFrame(tx)\n",
    "ty = pd.DataFrame(ty)\n",
    "tx.columns = [\"foo\"]\n",
    "ty.columns = [\"foo\"]\n",
    "n = len(tab_transactionsComplete)\n",
    "indep = tx.dot(ty.T) / n\n",
    "\n",
    "mesure = (corrSexCateg-indep)**2/indep\n",
    "xi_n = mesure.sum().sum()\n",
    "sns.heatmap(mesure/xi_n,annot=corrSexCateg)\n",
    "sns.set(rc={'figure.figsize':(13,10)})\n",
    "plt.show()"
   ]
  },
  {
   "cell_type": "markdown",
   "metadata": {},
   "source": [
    "## Correlation: Ages et montant total d'achat"
   ]
  },
  {
   "cell_type": "code",
   "execution_count": null,
   "metadata": {},
   "outputs": [],
   "source": [
    "tdf_CAgeAchatTotal = pd.pivot_table(tab_transactionsComplete,values='price', index=['client_id','age'], aggfunc='sum')\n",
    "tdf_CAgeAchatTotal = tdf_CAgeAchatTotal.reset_index()\n",
    "\n",
    "tdf_CAgeAchatTotal_mean = pd.pivot_table(tdf_CAgeAchatTotal, index=['age'], values=\"price\",aggfunc='mean')\n",
    "tdf_CAgeAchatTotal_mean = tdf_CAgeAchatTotal_mean.reset_index()\n",
    "tdf_CAgeAchatTotal_mean.head()"
   ]
  },
  {
   "cell_type": "code",
   "execution_count": null,
   "metadata": {},
   "outputs": [],
   "source": [
    "\n",
    "X = tdf_CAgeAchatTotal_mean['age']\n",
    "Y = tdf_CAgeAchatTotal_mean['price']\n",
    "\n",
    "\n",
    "slope, intercept, r_value, p_value, std_err = st.linregress(X, Y)\n",
    "\n",
    "def predict(x):\n",
    "   return slope * x + intercept\n",
    "\n",
    "fitLine = predict(X)\n",
    "\n",
    "plt.figure(figsize=(15,10))\n",
    "axes = plt.axes()\n",
    "axes.grid() \n",
    "plt.scatter(X,Y)\n",
    "plt.plot(X, fitLine, c='r')\n",
    "plt.xlabel('Age',fontsize=15)\n",
    "plt.ylabel(\"Somme moyenne depenser\",fontsize=15)\n",
    "plt.title(\"representation de la correlation entre l'age et le montant total d'achat\",fontsize=20)\n",
    "plt.grid(False)\n",
    "plt.show()\n"
   ]
  },
  {
   "cell_type": "code",
   "execution_count": null,
   "metadata": {},
   "outputs": [],
   "source": [
    "st.pearsonr(tdf_CAgeAchatTotal_mean['age'], tdf_CAgeAchatTotal_mean['price'])[0]"
   ]
  },
  {
   "cell_type": "code",
   "execution_count": null,
   "metadata": {},
   "outputs": [],
   "source": [
    "np.cov(tdf_CAgeAchatTotal_mean['age'], tdf_CAgeAchatTotal_mean['price'],ddof=0)[1,0]"
   ]
  },
  {
   "cell_type": "markdown",
   "metadata": {},
   "source": [
    "On peut donc grace a la droite de regression et au coef de pearson voire qu'il y a un correlation entre l'age et le montant total des achats"
   ]
  },
  {
   "cell_type": "markdown",
   "metadata": {},
   "source": [
    "## Correlation: Age et fréquence d'achat"
   ]
  },
  {
   "cell_type": "code",
   "execution_count": null,
   "metadata": {},
   "outputs": [],
   "source": [
    "tdf_1 = pd.pivot_table(tab_transactionsComplete,values=\"session_id\", index=['age',tab_transactionsComplete.date.dt.month], aggfunc='count')\n",
    "\n",
    "tdf_1 = tdf_1.reset_index()\n",
    "\n",
    "#Nombre moyen d'article par client\n",
    "tdf_2 = pd.pivot_table(tdf_1, index=['age'], values=\"session_id\",aggfunc='mean')\n",
    "tdf_2 = tdf_2.reset_index()"
   ]
  },
  {
   "cell_type": "code",
   "execution_count": null,
   "metadata": {},
   "outputs": [],
   "source": [
    "corTailleClasse = 5\n",
    "corGroupes = []\n",
    "\n",
    "\n",
    "\n",
    "corTrancheAge = np.arange(15,100,corTailleClasse)\n",
    "\n",
    "for ind, tr in enumerate(corTrancheAge):\n",
    "        a = 0\n",
    "        a = tdf_2[(tdf_2['age'] >= tr) & (tdf_2['age'] < tr+corTailleClasse)]['session_id'].sum()\n",
    "        g={\n",
    "            'age':tr,\n",
    "            'Nombre achat moyen par mois':a}\n",
    "        corGroupes.append(g)\n",
    "\n",
    "corGroupes = pd.DataFrame(corGroupes)\n",
    "corGroupes = corGroupes[:-1]\n",
    "\n",
    "corGroupes = corGroupes[['age', 'Nombre achat moyen par mois']]\n"
   ]
  },
  {
   "cell_type": "code",
   "execution_count": null,
   "metadata": {},
   "outputs": [],
   "source": [
    "# X= corGroupes['age']\n",
    "# Y= corGroupes['Nombre achat moyen par mois']\n",
    "\n",
    "X = tdf_2['age']\n",
    "Y = tdf_2['session_id']\n",
    "\n",
    "\n",
    "slope, intercept, r_value, p_value, std_err = st.linregress(X, Y)\n",
    "\n",
    "def predict(x):\n",
    "   return slope * x + intercept\n",
    "\n",
    "fitLine = predict(X)\n",
    "\n",
    "plt.figure(figsize=(15,10))\n",
    "axes = plt.axes()\n",
    "axes.grid() \n",
    "plt.scatter(X,Y)\n",
    "plt.plot(X, fitLine, c='r')\n",
    "plt.xlabel('Age',fontsize=15)\n",
    "plt.ylabel(\"Frequence d'achats\",fontsize=15)\n",
    "plt.title(\"representation de la correlation entre l'age et la frequence d'achat\",fontsize=20)\n",
    "plt.grid(False)\n",
    "plt.show()\n"
   ]
  },
  {
   "cell_type": "code",
   "execution_count": null,
   "metadata": {},
   "outputs": [],
   "source": [
    "st.pearsonr(corGroupes['age'], corGroupes['Nombre achat moyen par mois'])[0]"
   ]
  },
  {
   "cell_type": "code",
   "execution_count": null,
   "metadata": {},
   "outputs": [],
   "source": [
    "np.cov(corGroupes['age'], corGroupes['Nombre achat moyen par mois'],ddof=0)[1,0]"
   ]
  },
  {
   "cell_type": "markdown",
   "metadata": {},
   "source": [
    "On peut voire qu'il y a une correlation entre l'age des client et leur frequence d'achat"
   ]
  },
  {
   "cell_type": "markdown",
   "metadata": {},
   "source": [
    "## Correlation: Age et nombre de produits moyen acheté\n"
   ]
  },
  {
   "cell_type": "code",
   "execution_count": null,
   "metadata": {},
   "outputs": [],
   "source": [
    "#regroupe le nb d'article par session\n",
    "tdf_CAgePanierMoy = pd.pivot_table(tab_transactionsComplete, values='id_prod',index=['client_id','age','session_id'], aggfunc='count')\n",
    "tdf_CAgePanierMoy = tdf_CAgePanierMoy.reset_index()\n",
    "\n",
    "#Nombre moyen d'article par client\n",
    "tdf_CAgePanierMoy = pd.pivot_table(tdf_CAgePanierMoy,index=['age'],values=\"id_prod\",aggfunc='mean')\n",
    "tdf_CAgePanierMoy = tdf_CAgePanierMoy.reset_index()\n",
    "tdf_CAgePanierMoy.columns = ['age','nb_prod']\n",
    "tdf_CAgePanierMoy.head()"
   ]
  },
  {
   "cell_type": "code",
   "execution_count": null,
   "metadata": {},
   "outputs": [],
   "source": [
    "\n",
    "X = tdf_CAgePanierMoy['age']\n",
    "Y = tdf_CAgePanierMoy['nb_prod']\n",
    "\n",
    "\n",
    "slope, intercept, r_value, p_value, std_err = st.linregress(X, Y)\n",
    "\n",
    "def predict(x):\n",
    "   return slope * x + intercept\n",
    "\n",
    "fitLine = predict(X)\n",
    "\n",
    "plt.figure(figsize=(15,10))\n",
    "axes = plt.axes()\n",
    "axes.grid() \n",
    "plt.scatter(X,Y)\n",
    "plt.plot(X, fitLine, c='r')\n",
    "plt.xlabel('Age',fontsize=15)\n",
    "plt.ylabel(\"Nombre de produits moyen acheté\",fontsize=15)\n",
    "plt.title(\"representation de la correlation entre l'age et le nombre moyen de produits par panier acheté\",fontsize=20)\n",
    "plt.grid(False)\n",
    "plt.show()\n"
   ]
  },
  {
   "cell_type": "code",
   "execution_count": null,
   "metadata": {},
   "outputs": [],
   "source": [
    "st.pearsonr(tdf_CAgePanierMoy['age'], tdf_CAgePanierMoy['nb_prod'])[0]"
   ]
  },
  {
   "cell_type": "code",
   "execution_count": null,
   "metadata": {},
   "outputs": [],
   "source": [
    "np.cov(tdf_CAgePanierMoy['age'], tdf_CAgePanierMoy['nb_prod'],ddof=0)[1,0]"
   ]
  },
  {
   "cell_type": "markdown",
   "metadata": {},
   "source": [
    "Encore une fois en prenant le coef et la representation graph on peut voire qu'il y a une correlation entre les deux variable"
   ]
  },
  {
   "cell_type": "markdown",
   "metadata": {},
   "source": [
    "## Correlation: Age et categories acheté"
   ]
  },
  {
   "cell_type": "code",
   "execution_count": null,
   "metadata": {},
   "outputs": [],
   "source": [
    "X = 'categ'\n",
    "Y = 'age'\n",
    "\n",
    "sous_echantillon = tab_transactionsComplete[['age','categ']]\n",
    "\n",
    "\n",
    "modalites = sous_echantillon[X].unique()\n",
    "groupesCorr = []\n",
    "for m in modalites:\n",
    "    groupesCorr.append(sous_echantillon[sous_echantillon[X]==m][Y])\n",
    "\n",
    "# Propriétés graphiques (pas très importantes)    \n",
    "medianprops = {'color':\"black\"}\n",
    "meanprops = {'marker':'o', 'markeredgecolor':'black',\n",
    "            'markerfacecolor':'firebrick'}\n",
    "    \n",
    "plt.boxplot(groupesCorr, labels=modalites, showfliers=False, medianprops=medianprops, \n",
    "            vert=False, patch_artist=True, showmeans=True, meanprops=meanprops)\n",
    "\n",
    "plt.title('Repartition des ages en fonction des categories', fontsize=20)\n",
    "plt.ylabel('Categories', fontsize=15)\n",
    "plt.xlabel('Age', fontsize=15)\n",
    "plt.show()"
   ]
  },
  {
   "cell_type": "code",
   "execution_count": null,
   "metadata": {},
   "outputs": [],
   "source": [
    "X = \"categ\" # qualitative\n",
    "Y = \"age\" # quantitative\n",
    "\n",
    "sous_echantillon = tab_transactionsComplete[['age','categ']]\n",
    "\n",
    "def eta_squared(x,y):\n",
    "    moyenne_y = y.mean()\n",
    "    classes = []\n",
    "    for classe in x.unique():\n",
    "        yi_classe = y[x==classe]\n",
    "        classes.append({'ni': len(yi_classe),\n",
    "                        'moyenne_classe': yi_classe.mean()})\n",
    "    SCT = sum([(yj-moyenne_y)**2 for yj in y])\n",
    "    SCE = sum([c['ni']*(c['moyenne_classe']-moyenne_y)**2 for c in classes])\n",
    "    return SCE/SCT\n",
    "    \n",
    "eta_squared(sous_echantillon[X],sous_echantillon[Y])"
   ]
  },
  {
   "cell_type": "markdown",
   "metadata": {},
   "source": [
    "Ici notre eta², nous donne un chiffre plutot faible et au vue de ce dernier et des graph il semblerai qu'il existe une faible correlation entre l'age et la categorie acheter par les clients\n"
   ]
  }
 ],
 "metadata": {
  "kernelspec": {
   "display_name": "Python 3",
   "language": "python",
   "name": "python3"
  },
  "language_info": {
   "codemirror_mode": {
    "name": "ipython",
    "version": 3
   },
   "file_extension": ".py",
   "mimetype": "text/x-python",
   "name": "python",
   "nbconvert_exporter": "python",
   "pygments_lexer": "ipython3",
   "version": "3.7.6"
  }
 },
 "nbformat": 4,
 "nbformat_minor": 4
}
