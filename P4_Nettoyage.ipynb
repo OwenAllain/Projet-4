{
 "cells": [
  {
   "cell_type": "markdown",
   "metadata": {},
   "source": [
    "# Livrable projet 4 :Nettoyage des données"
   ]
  },
  {
   "cell_type": "code",
   "execution_count": 1,
   "metadata": {},
   "outputs": [],
   "source": [
    "# Import des librairies\n",
    "import numpy as np\n",
    "import pandas as pd\n",
    "import seaborn as sns\n",
    "import datetime\n",
    "import re\n",
    "\n",
    "# Import des données des bilans alimentaires\n",
    "cus = pd.read_csv(\"data/customers.csv\")\n",
    "pro = pd.read_csv(\"data/products.csv\")\n",
    "tra = pd.read_csv(\"data/transactions.csv\",parse_dates=[1])\n",
    "\n"
   ]
  },
  {
   "cell_type": "markdown",
   "metadata": {},
   "source": [
    "Nous avons ci-dessous les fonctions qui vont nous permettre de nettoyer et formater les différentes données"
   ]
  },
  {
   "cell_type": "code",
   "execution_count": 2,
   "metadata": {},
   "outputs": [],
   "source": [
    "def birth_verif(value): \n",
    "    \"\"\"Vérification que la date de naissance est bien une date possible\n",
    "    \"\"\"\n",
    "    date = datetime.datetime.now()\n",
    "\n",
    "    if value > 1900 and value < date.year:\n",
    "        return value\n",
    "    return np.NaN\n",
    "\n",
    "\n",
    "def sex_verif(value):\n",
    "    \"\"\"Vérification que le sexe entré est un sexe qui existe, nous avons pour ça la liste VALID_SEX\n",
    "    \"\"\"\n",
    "    VALID_SEX = ['f','m']\n",
    "\n",
    "    if value not in VALID_SEX:\n",
    "        return np.NaN\n",
    "    return value\n",
    "\n",
    "\n",
    "def clientId_verif(value):\n",
    "    \"\"\"Vérification que tous les identifiants clients on la même architecture\n",
    "    \"\"\"\n",
    "    found = re.search('c_\\d*', value)\n",
    "    if found is None:\n",
    "        return np.NaN\n",
    "    return value\n",
    "\n",
    "\n",
    "def idProd_verif(value):\n",
    "    \"\"\"Fonction qui verifie que l'identifiant de tous les produits suis la même logique\n",
    "    \"\"\"\n",
    "    found = re.search('^[0-2]_\\d+', value)\n",
    "    if found is None:\n",
    "        return np.NaN\n",
    "    return value\n",
    "    \n",
    "    \n",
    "def sessionId_verif(value):\n",
    "    \"\"\"Fonction qui verifie l'identifiant des sessions\n",
    "    \"\"\"\n",
    "    found = re.search('^s_\\d+', value)\n",
    "    if value is None:\n",
    "        return np.NaN\n",
    "    return value\n",
    "\n",
    "  \n",
    "def price_verif(value):\n",
    "    \"\"\"Fonction qui verifie qu'un prix est positif\n",
    "    \"\"\"\n",
    "    if value < 0:\n",
    "        return np.NaN\n",
    "    return value\n",
    "\n",
    "\n",
    "def categ_verif(value):\n",
    "    \"\"\"Verification que la categorie est une categorie qui existe, la liste des categories existante est donner par VALID_CATEG\n",
    "    \"\"\"\n",
    "    VALID_CATEG = [0,1,2]\n",
    "\n",
    "    if value not in VALID_CATEG:\n",
    "        return np.NaN\n",
    "    return value\n",
    "    \n",
    "\n",
    "def date_verif(value):\n",
    "    \"\"\"Cette fonction verifie que les dates soit bien toute au même formats, a savoir que des digits\n",
    "    \"\"\"\n",
    "    found = re.search('^\\D+', value)\n",
    "    if found is None:\n",
    "        return value\n",
    "    else:\n",
    "         return np.NaN\n",
    "        \n"
   ]
  },
  {
   "cell_type": "markdown",
   "metadata": {},
   "source": [
    "Nous effectuons ainsi notre formatage"
   ]
  },
  {
   "cell_type": "code",
   "execution_count": 3,
   "metadata": {},
   "outputs": [],
   "source": [
    "cus['birth'] = cus['birth'].apply(birth_verif)\n",
    "cus['sex'] = cus['sex'].apply(sex_verif)\n",
    "cus['client_id'] = cus['client_id'].apply(clientId_verif)\n"
   ]
  },
  {
   "cell_type": "code",
   "execution_count": 4,
   "metadata": {},
   "outputs": [
    {
     "data": {
      "text/html": [
       "<div>\n",
       "<style scoped>\n",
       "    .dataframe tbody tr th:only-of-type {\n",
       "        vertical-align: middle;\n",
       "    }\n",
       "\n",
       "    .dataframe tbody tr th {\n",
       "        vertical-align: top;\n",
       "    }\n",
       "\n",
       "    .dataframe thead th {\n",
       "        text-align: right;\n",
       "    }\n",
       "</style>\n",
       "<table border=\"1\" class=\"dataframe\">\n",
       "  <thead>\n",
       "    <tr style=\"text-align: right;\">\n",
       "      <th></th>\n",
       "      <th>id_prod</th>\n",
       "      <th>price</th>\n",
       "      <th>categ</th>\n",
       "    </tr>\n",
       "  </thead>\n",
       "  <tbody>\n",
       "    <tr>\n",
       "      <th>731</th>\n",
       "      <td>NaN</td>\n",
       "      <td>NaN</td>\n",
       "      <td>0</td>\n",
       "    </tr>\n",
       "  </tbody>\n",
       "</table>\n",
       "</div>"
      ],
      "text/plain": [
       "    id_prod  price  categ\n",
       "731     NaN    NaN      0"
      ]
     },
     "execution_count": 4,
     "metadata": {},
     "output_type": "execute_result"
    }
   ],
   "source": [
    "pro['id_prod'] = pro['id_prod'].apply(idProd_verif)\n",
    "pro['price'] = pro['price'].apply(price_verif)\n",
    "pro['categ'] = pro['categ'].apply(categ_verif)\n",
    "\n",
    "#Ici on regarde que tout les identifiant et toute les categorie concorde\n",
    "pro[pro['id_prod'].astype(str).str[0] != pro['categ'].astype(str).str[0]]\n"
   ]
  },
  {
   "cell_type": "markdown",
   "metadata": {},
   "source": [
    "Nous n'avons que le produits Nan qui est le produits test"
   ]
  },
  {
   "cell_type": "code",
   "execution_count": 5,
   "metadata": {},
   "outputs": [],
   "source": [
    "tra['id_prod'] = tra['id_prod'].apply(idProd_verif)\n",
    "tra['date'] = tra['date'].apply(date_verif)\n",
    "tra['session_id'] = tra['session_id'].apply(sessionId_verif)\n",
    "tra['client_id'] = tra['client_id'].apply(clientId_verif)\n",
    "tra['date'] = pd.to_datetime(tra['date'])"
   ]
  },
  {
   "cell_type": "code",
   "execution_count": 6,
   "metadata": {},
   "outputs": [
    {
     "data": {
      "text/plain": [
       "client_id    2\n",
       "sex          0\n",
       "birth        0\n",
       "dtype: int64"
      ]
     },
     "execution_count": 6,
     "metadata": {},
     "output_type": "execute_result"
    }
   ],
   "source": [
    "cus.isna().sum()\n"
   ]
  },
  {
   "cell_type": "code",
   "execution_count": 7,
   "metadata": {},
   "outputs": [
    {
     "data": {
      "text/plain": [
       "id_prod    1\n",
       "price      1\n",
       "categ      0\n",
       "dtype: int64"
      ]
     },
     "execution_count": 7,
     "metadata": {},
     "output_type": "execute_result"
    }
   ],
   "source": [
    "pro.isna().sum()\n"
   ]
  },
  {
   "cell_type": "code",
   "execution_count": 8,
   "metadata": {},
   "outputs": [
    {
     "data": {
      "text/plain": [
       "id_prod       200\n",
       "date          200\n",
       "session_id      0\n",
       "client_id     200\n",
       "dtype: int64"
      ]
     },
     "execution_count": 8,
     "metadata": {},
     "output_type": "execute_result"
    }
   ],
   "source": [
    "tra.isna().sum()\n"
   ]
  },
  {
   "cell_type": "code",
   "execution_count": 9,
   "metadata": {},
   "outputs": [
    {
     "name": "stdout",
     "output_type": "stream",
     "text": [
      "<class 'pandas.core.frame.DataFrame'>\n",
      "RangeIndex: 337016 entries, 0 to 337015\n",
      "Data columns (total 4 columns):\n",
      " #   Column      Non-Null Count   Dtype         \n",
      "---  ------      --------------   -----         \n",
      " 0   id_prod     336816 non-null  object        \n",
      " 1   date        336816 non-null  datetime64[ns]\n",
      " 2   session_id  337016 non-null  object        \n",
      " 3   client_id   336816 non-null  object        \n",
      "dtypes: datetime64[ns](1), object(3)\n",
      "memory usage: 10.3+ MB\n"
     ]
    }
   ],
   "source": [
    "tra.info()"
   ]
  },
  {
   "cell_type": "markdown",
   "metadata": {},
   "source": [
    "Nous pouvons remarquer que nous avons plusieurs valeurs manquantes suite à notre formatage\n"
   ]
  },
  {
   "cell_type": "markdown",
   "metadata": {},
   "source": [
    "- *customer* -> 8623 entrées -> 2 corrompus soit 0.02% des entrées\n",
    "- *produits* -> 3287 entrées -> 1 corrompu soit 0.03% des entrées\n",
    "- *transaction* -> 337 016 entrées -> 200 corrompus soit 0.05% des entrées\n"
   ]
  },
  {
   "cell_type": "markdown",
   "metadata": {},
   "source": [
    "Notre échantillon, même sans ces pourcentages de pertes, sera toujours représentatif, il n'y aura aucun impact de paniers moyens ou autres car ces \"erreur\" se trouve sur des articles avec un prix négatif"
   ]
  },
  {
   "cell_type": "code",
   "execution_count": 10,
   "metadata": {},
   "outputs": [],
   "source": [
    "cus = cus.dropna()\n",
    "pro = pro.dropna()\n",
    "tra = tra.dropna()"
   ]
  },
  {
   "cell_type": "code",
   "execution_count": 11,
   "metadata": {},
   "outputs": [],
   "source": [
    "cus.to_csv(\"data/customer_formate.csv\",encoding=\"utf-8\",index =False)"
   ]
  },
  {
   "cell_type": "code",
   "execution_count": 12,
   "metadata": {},
   "outputs": [],
   "source": [
    "pro.to_csv(\"data/product_formate.csv\",encoding=\"utf-8\",index =False)"
   ]
  },
  {
   "cell_type": "code",
   "execution_count": 13,
   "metadata": {},
   "outputs": [],
   "source": [
    "tra.to_csv(\"data/transaction_formate.csv\",encoding=\"utf-8\",index =False)"
   ]
  }
 ],
 "metadata": {
  "kernelspec": {
   "display_name": "Python 3",
   "language": "python",
   "name": "python3"
  },
  "language_info": {
   "codemirror_mode": {
    "name": "ipython",
    "version": 3
   },
   "file_extension": ".py",
   "mimetype": "text/x-python",
   "name": "python",
   "nbconvert_exporter": "python",
   "pygments_lexer": "ipython3",
   "version": "3.7.6"
  }
 },
 "nbformat": 4,
 "nbformat_minor": 4
}
